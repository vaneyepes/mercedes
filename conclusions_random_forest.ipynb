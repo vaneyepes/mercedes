{
 "cells": [
  {
   "cell_type": "markdown",
   "id": "c9518af2",
   "metadata": {},
   "source": [
    "# Conclusions Tuned Random Forest\n",
    "\n",
    "** Baseline Random Forest**\n",
    "- RMSE ≈ 9.12, R² ≈ 0.465: Worse than Ridge and tuned single tree.\n",
    "\n",
    "**Tuned Random Forest**\n",
    "- sqrt → RMSE 8.167, R² 0.571\n",
    "\n",
    "- 0.5 → RMSE 8.056, R² 0.583\n",
    "\n",
    "- 0.3 → RMSE 8.057, R² 0.583\n",
    "\n",
    "**Conclusions**\n",
    "\n",
    "- After tuning, the Random Forest is better than all linear models (Top-10 Regression, Ridge) and than a tuned single tree\n",
    "\n",
    "- **RMSE ~ 8.05 (best so far), R² ~ 0.58 (highest variance explained)** \n",
    "\n",
    "\n",
    "# TUNED RANDOM FORREST IS THE BEST MODEL FOR THE MERCEDES DATA SET"
   ]
  },
  {
   "cell_type": "markdown",
   "id": "0d90adb7",
   "metadata": {},
   "source": []
  }
 ],
 "metadata": {
  "language_info": {
   "name": "python"
  }
 },
 "nbformat": 4,
 "nbformat_minor": 5
}
