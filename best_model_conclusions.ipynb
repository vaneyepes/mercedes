{
 "cells": [
  {
   "cell_type": "markdown",
   "id": "4c98d872",
   "metadata": {},
   "source": [
    "## 📊 Model Performance Comparison\n",
    "\n",
    "| Model                         | Features Used           | RMSE   | R²    | Notes |\n",
    "|-------------------------------|-------------------------|--------|-------|-------|\n",
    "| Linear Regression (Top-3)     | X314, X261, X127        | 9.637  | 0.403 | Simple baseline, limited variance explained |\n",
    "| Linear Regression (Top-10)    | 10 strongest (corr)     | 8.306  | 0.557 | Better than Top-3, solid linear baseline |\n",
    "| Ridge Regression (All feats)  | All (≈551 after OHE)    | 8.221  | 0.566 | Regularization stabilized high-dim data |\n",
    "| Decision Tree (Baseline)      | All features            | 12.478 | -0.000| Overfit, no variance explained |\n",
    "| Decision Tree (Tuned)         | max_depth=10, min_leaf=5| 8.612  | 0.523 | Much improved, competitive with Ridge |\n",
    "| Random Forest (Baseline)      | n_estimators=200        | 9.121  | 0.465 | Better than single baseline tree, but underperformed Ridge |\n",
    "| Random Forest (Tuned)         | max_depth=10, min_leaf=5, max_features=0.5 | **8.056** | **0.583** | Best overall model, strong generalization |\n",
    "\n",
    "---\n",
    "✅ **Best Model so far**: **Tuned Random Forest** with `max_features=0.5`  \n",
    "- RMSE ≈ 8.06 seconds (lowest error).  \n",
    "- R² ≈ 0.58 (highest variance explained).  \n",
    "- Outperforms linear models and single trees.  \n"
   ]
  },
  {
   "cell_type": "markdown",
   "id": "1da3296c",
   "metadata": {},
   "source": []
  }
 ],
 "metadata": {
  "language_info": {
   "name": "python"
  }
 },
 "nbformat": 4,
 "nbformat_minor": 5
}
