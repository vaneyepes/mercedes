{
 "cells": [
  {
   "cell_type": "markdown",
   "id": "1351d56d",
   "metadata": {},
   "source": [
    "# EDA Conclusions and Nexts Steps"
   ]
  },
  {
   "cell_type": "markdown",
   "id": "277dad23",
   "metadata": {},
   "source": [
    "1. Target (y): Mostly 90–110 sec, but with strong outliers (max 265). Outliers may affect model accuracy.\n",
    "\n",
    "2. Constant features: 12 columns with only 1 unique value: To drop for next steps (X11, X93, X107, X233, X235, X268, X289, X290, X293, X297, X330, X347)\n",
    "\n",
    "3. Categorical features: Keep and encode.  Hot encoding categorical columns: X0 to X8 (not including X4, X7) (hot ecoding?)\n",
    "\n",
    "4. Binary/numeric features: Some are mostly zeros. Maybe Drop for regression? Some weakly correlated with y, maybe still useful for trees. \n",
    "\n",
    "5. Correlations: No strong linear relationships with y. A tree may be a better fit than linear models\n",
    "\n",
    "6. Columns with some viariance but still very low (drop?): (X4 and others).If low variance=0.01, the columns’ number increases to 147147 in total \n",
    "\n",
    "7. Top positive correlations with y:\n",
    " y       1.000000\n",
    "X314    0.606005\n",
    "X261    0.588785\n",
    "X263    0.379629\n",
    "X136    0.368177\n",
    "X275    0.275042\n",
    "X118    0.272728\n",
    "X119    0.272728\n",
    "X51     0.229999\n",
    "X264    0.228169\n",
    "\n",
    "7. Using mean target instead of raw frequency: X0 and X2 show the strongest variation in production time → key predictors. X1, X5, X6, X8 also contain meaningful signal. "
   ]
  },
  {
   "cell_type": "markdown",
   "id": "1e30736a",
   "metadata": {},
   "source": [
    "![Alt text](images/y_distribution.png)"
   ]
  },
  {
   "cell_type": "code",
   "execution_count": 3,
   "id": "bdc40242",
   "metadata": {},
   "outputs": [
    {
     "name": "stdout",
     "output_type": "stream",
     "text": [
      "zsh:1: bad pattern: [Alt\n"
     ]
    }
   ],
   "source": [
    "![Alt text](images/meanyX8.png)"
   ]
  },
  {
   "cell_type": "markdown",
   "id": "421dd8c7",
   "metadata": {},
   "source": [
    "# Conclusions Including encoded categorical features\n"
   ]
  },
  {
   "cell_type": "markdown",
   "id": "5d5d41d3",
   "metadata": {},
   "source": [
    "## Correlation Analysis with Encoded Features\n",
    "\n",
    "- After applying **One-Hot Encoding (OHE)** to the categorical variables, some of the new encoded features show up among the top correlations with the target `y`.  \n",
    "\n",
    "### Key Findings\n",
    "- **Top correlated features (positive with `y`):**\n",
    "  - `X314` (0.61), `X261` (0.59), `X263` (0.38), `X136` (0.37) → original numeric/binary features.  \n",
    "  - `X0_ak` (0.28), `X0_x` (0.26) → **OHE features from categorical column `X0`**.  \n",
    "\n",
    "- **Interpretation:**  \n",
    "  - Certain categories of `X0` (e.g., `ak`, `x`) are **moderately correlated with test bench time**.  \n",
    "  - This means that cars with these configurations tend to show systematically higher/lower testing times.  \n",
    "  - These encoded categorical features are **useful predictors** for the model.  \n",
    "\n",
    "- **Negative correlations:**  \n",
    "  - Several constant columns (`X107`, `X233`, `X235`, `X268`, `X289`, `X290`, `X293`, `X297`, `X330`, `X347`) returned `NaN` because they never vary.  \n",
    "  - These features should be **dropped** as they contain no information\n"
   ]
  },
  {
   "cell_type": "code",
   "execution_count": null,
   "id": "93fbd48b",
   "metadata": {},
   "outputs": [],
   "source": []
  },
  {
   "cell_type": "markdown",
   "id": "9011a08d",
   "metadata": {},
   "source": []
  },
  {
   "cell_type": "markdown",
   "id": "f10a7a44",
   "metadata": {},
   "source": []
  },
  {
   "cell_type": "code",
   "execution_count": 1,
   "id": "6a136f7e",
   "metadata": {},
   "outputs": [],
   "source": [
    "import pandas as pd"
   ]
  },
  {
   "cell_type": "markdown",
   "id": "8e8c64c4",
   "metadata": {},
   "source": []
  }
 ],
 "metadata": {
  "kernelspec": {
   "display_name": ".venv",
   "language": "python",
   "name": "python3"
  },
  "language_info": {
   "codemirror_mode": {
    "name": "ipython",
    "version": 3
   },
   "file_extension": ".py",
   "mimetype": "text/x-python",
   "name": "python",
   "nbconvert_exporter": "python",
   "pygments_lexer": "ipython3",
   "version": "3.11.3"
  }
 },
 "nbformat": 4,
 "nbformat_minor": 5
}
