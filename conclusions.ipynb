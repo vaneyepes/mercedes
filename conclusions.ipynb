{
 "cells": [
  {
   "cell_type": "markdown",
   "id": "1351d56d",
   "metadata": {},
   "source": [
    "# EDA Conclusions and Nexts Steps"
   ]
  },
  {
   "cell_type": "markdown",
   "id": "277dad23",
   "metadata": {},
   "source": [
    "1. Target (y): Mostly 90–110 sec, but with strong outliers (max 265). Outliers may affect accuracy.\n",
    "\n",
    "2. Constant features: 12 columns with only 1 unique value: To drop for next steps (X11, X93, X107, X233, X235, X268, X289, X290, X293, X297, X330, X347)\n",
    "\n",
    "3. Categorical features: Variables like X0, X1 show differences in y across categories: Keep and encode (hot ecoding?)\n",
    "\n",
    "4. Binary/numeric features: Some are mostly zeros. Maybe Drop for regression? Some weakly correlated with y, maybe still useful for trees.\n",
    "\n",
    "5. Correlations: No strong linear relationships with y. A tree may be a better fit than linear models"
   ]
  },
  {
   "cell_type": "markdown",
   "id": "9011a08d",
   "metadata": {},
   "source": []
  },
  {
   "cell_type": "code",
   "execution_count": 1,
   "id": "6a136f7e",
   "metadata": {},
   "outputs": [],
   "source": [
    "import pandas as pd"
   ]
  },
  {
   "cell_type": "markdown",
   "id": "8e8c64c4",
   "metadata": {},
   "source": []
  }
 ],
 "metadata": {
  "kernelspec": {
   "display_name": ".venv",
   "language": "python",
   "name": "python3"
  },
  "language_info": {
   "codemirror_mode": {
    "name": "ipython",
    "version": 3
   },
   "file_extension": ".py",
   "mimetype": "text/x-python",
   "name": "python",
   "nbconvert_exporter": "python",
   "pygments_lexer": "ipython3",
   "version": "3.11.3"
  }
 },
 "nbformat": 4,
 "nbformat_minor": 5
}
