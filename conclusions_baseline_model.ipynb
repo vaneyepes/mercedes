{
 "cells": [
  {
   "cell_type": "markdown",
   "id": "4d938385",
   "metadata": {},
   "source": [
    "## Evaluation Top 3 features  vs Top 10 features\n",
    "\n",
    "We trained  and evaluated 2 multiple regression models using the most correlated features with Y (based on EDA analysis)\n",
    "\n",
    "### Evaluation: Linear Regression (Top-3 Features)\n",
    "- RMSE: 9.637 \n",
    "model is off about 9.6 secounds (avg error)\n",
    "- R²:   0.403\n",
    "- Top 3 features: ['X314', 'X261', 'X127'] \n",
    "\n",
    "- Since most y values are around 90–110 seconds (from EDA), RMSE shows roughly a 10% error margin. \n",
    "- R2 shows that the model explains about 40% of the variance in the target variable y\n",
    "\n",
    "### Evaluation: Linear Regression (Top-10 Features)\n",
    "- RMSE: 8.306\n",
    "model is off about 8.3 secounds (avg error)\n",
    "- R²:   0.557\n",
    "-Top 10 features: ['X314', 'X261', 'X127', 'X279', 'X263', 'X232', 'X29', 'X0_az', 'X54', 'X76'] \n",
    "\n",
    "**conclusions Model Top 10**\n",
    "- Improvement of ~1.3 seconds over the top-3 model (RMSE)\n",
    "- The model explains about 56% of the variance in y (R2) \n",
    "\n",
    "**Conclussion:**  Model improved with 10 features. Proceed to regularize in order to improve R2 and RMSE. Lower RMSE shows that Top 10 features model is the best alternative for a baseline. "
   ]
  },
  {
   "cell_type": "markdown",
   "id": "e9542ab0",
   "metadata": {},
   "source": []
  }
 ],
 "metadata": {
  "language_info": {
   "name": "python"
  }
 },
 "nbformat": 4,
 "nbformat_minor": 5
}
