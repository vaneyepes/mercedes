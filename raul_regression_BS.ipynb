{
 "cells": [
  {
   "cell_type": "code",
   "execution_count": 1,
   "id": "07fed1dc",
   "metadata": {},
   "outputs": [],
   "source": [
    "import numpy as np\n",
    "import pandas as pd\n",
    "import matplotlib.pyplot as plt\n",
    "import seaborn as sns \n",
    "\n",
    "from sklearn.model_selection import train_test_split\n",
    "from sklearn.preprocessing import OneHotEncoder\n",
    "from sklearn.linear_model import LinearRegression\n",
    "from sklearn.metrics import mean_squared_error, r2_score "
   ]
  },
  {
   "cell_type": "code",
   "execution_count": 2,
   "id": "39165aba",
   "metadata": {},
   "outputs": [
    {
     "name": "stdout",
     "output_type": "stream",
     "text": [
      "Shapes\n",
      "Original train_df shape:     (4209, 366)\n",
      "Transformed train_df shape:  (4209, 553)\n",
      "\n",
      " Dropped Categorical Columns\n",
      "['X0', 'X1', 'X2', 'X3', 'X4', 'X5', 'X6', 'X8']\n",
      "\n",
      " New OHE Columns Names\n",
      "['X0_a' 'X0_aa' 'X0_ab' 'X0_ac' 'X0_ad' 'X0_af' 'X0_ai' 'X0_aj' 'X0_ak'\n",
      " 'X0_al' 'X0_am' 'X0_ao' 'X0_ap' 'X0_aq' 'X0_as' 'X0_at' 'X0_au' 'X0_aw'\n",
      " 'X0_ax' 'X0_ay']\n",
      "Total new OHE columns: 195\n"
     ]
    }
   ],
   "source": [
    "# Load datasets\n",
    "train_df = pd.read_csv(\"data/train.csv\")\n",
    "test_df  = pd.read_csv(\"data/test.csv\")\n",
    "\n",
    "# Drop columns with no variance (from EDA)\n",
    "drop_cols = ['X11','X93','X107','X233','X235','X268','X289','X290','X293','X297','X330','X347']\n",
    "train_df = train_df.drop(columns=drop_cols, errors=\"ignore\")\n",
    "test_df  = test_df.drop(columns=drop_cols, errors=\"ignore\")\n",
    "\n",
    "# 3) One-Hot Encode categorical columns\n",
    "categorical_cols = ['X0','X1','X2','X3','X4','X5','X6','X8']\n",
    "ohe = OneHotEncoder(handle_unknown='ignore', sparse_output=False).set_output(transform='pandas')\n",
    "\n",
    "# Ohe on train categoricals\n",
    "ohe_train = ohe.fit_transform(train_df[categorical_cols])\n",
    "# Ohe on test categoricals\n",
    "ohe_test  = ohe.transform(test_df[categorical_cols])\n",
    "\n",
    "# Transformed dataframes (drop original categoricals, join OHE)\n",
    "train_transformed = train_df.drop(columns=categorical_cols).join(ohe_train)\n",
    "test_transformed  = test_df.drop(columns=categorical_cols).join(ohe_test)\n",
    "\n",
    "# Quick checks\n",
    "print(\"Shapes\")\n",
    "print(\"Original train_df shape:    \", train_df.shape)\n",
    "print(\"Transformed train_df shape: \", train_transformed.shape)\n",
    "\n",
    "print(\"\\n Dropped Categorical Columns\")\n",
    "print(categorical_cols)\n",
    "\n",
    "print(\"\\n New OHE Columns Names\")\n",
    "print(ohe.get_feature_names_out(categorical_cols)[:20])  # show first 20 OHE columns\n",
    "print(f\"Total new OHE columns: {len(ohe.get_feature_names_out(categorical_cols))}\")"
   ]
  },
  {
   "cell_type": "code",
   "execution_count": 3,
   "id": "c51dde15",
   "metadata": {},
   "outputs": [
    {
     "name": "stdout",
     "output_type": "stream",
     "text": [
      "Index(['X314', 'X261', 'X127', 'X29', 'X232', 'X279', 'X263', 'X0_az', 'X76',\n",
      "       'X54', 'X136', 'X328'],\n",
      "      dtype='object')\n"
     ]
    }
   ],
   "source": [
    "# review from EDA: find the most correlated features \n",
    "num_cols = train_transformed.select_dtypes(include=np.number).columns\n",
    "corr_series = (\n",
    "    train_transformed[num_cols]\n",
    "    .corr(numeric_only=True)['y']\n",
    "    .drop(labels=['y','ID'], errors='ignore')\n",
    "    .dropna()\n",
    "    .abs()\n",
    "    .sort_values(ascending=False)\n",
    ")\n",
    "print(corr_series.index[:12])  # shows top dozen names in order"
   ]
  },
  {
   "cell_type": "markdown",
   "id": "9eb0c288",
   "metadata": {},
   "source": [
    "# GRID SEARCH"
   ]
  },
  {
   "cell_type": "markdown",
   "id": "f959b867",
   "metadata": {},
   "source": [
    "### Random Forest + Grid Search"
   ]
  },
  {
   "cell_type": "code",
   "execution_count": 18,
   "id": "2e8aed8c",
   "metadata": {},
   "outputs": [
    {
     "name": "stdout",
     "output_type": "stream",
     "text": [
      "Fitting 5 folds for each of 54 candidates, totalling 270 fits\n"
     ]
    },
    {
     "name": "stderr",
     "output_type": "stream",
     "text": [
      "/Users/raulguzman/Desktop/AIPM/mercedes/.venv/lib/python3.11/site-packages/sklearn/preprocessing/_encoders.py:246: UserWarning: Found unknown categories in columns [1, 2, 4] during transform. These unknown categories will be encoded as all zeros\n",
      "  warnings.warn(\n",
      "/Users/raulguzman/Desktop/AIPM/mercedes/.venv/lib/python3.11/site-packages/sklearn/preprocessing/_encoders.py:246: UserWarning: Found unknown categories in columns [0, 2, 4] during transform. These unknown categories will be encoded as all zeros\n",
      "  warnings.warn(\n",
      "/Users/raulguzman/Desktop/AIPM/mercedes/.venv/lib/python3.11/site-packages/sklearn/preprocessing/_encoders.py:246: UserWarning: Found unknown categories in columns [2, 4] during transform. These unknown categories will be encoded as all zeros\n",
      "  warnings.warn(\n",
      "/Users/raulguzman/Desktop/AIPM/mercedes/.venv/lib/python3.11/site-packages/sklearn/preprocessing/_encoders.py:246: UserWarning: Found unknown categories in columns [0, 2, 4] during transform. These unknown categories will be encoded as all zeros\n",
      "  warnings.warn(\n",
      "/Users/raulguzman/Desktop/AIPM/mercedes/.venv/lib/python3.11/site-packages/sklearn/preprocessing/_encoders.py:246: UserWarning: Found unknown categories in columns [0, 4] during transform. These unknown categories will be encoded as all zeros\n",
      "  warnings.warn(\n",
      "/Users/raulguzman/Desktop/AIPM/mercedes/.venv/lib/python3.11/site-packages/sklearn/preprocessing/_encoders.py:246: UserWarning: Found unknown categories in columns [2, 4] during transform. These unknown categories will be encoded as all zeros\n",
      "  warnings.warn(\n",
      "/Users/raulguzman/Desktop/AIPM/mercedes/.venv/lib/python3.11/site-packages/sklearn/preprocessing/_encoders.py:246: UserWarning: Found unknown categories in columns [0, 4] during transform. These unknown categories will be encoded as all zeros\n",
      "  warnings.warn(\n",
      "/Users/raulguzman/Desktop/AIPM/mercedes/.venv/lib/python3.11/site-packages/sklearn/preprocessing/_encoders.py:246: UserWarning: Found unknown categories in columns [1, 2, 4] during transform. These unknown categories will be encoded as all zeros\n",
      "  warnings.warn(\n",
      "/Users/raulguzman/Desktop/AIPM/mercedes/.venv/lib/python3.11/site-packages/sklearn/preprocessing/_encoders.py:246: UserWarning: Found unknown categories in columns [0, 2, 4] during transform. These unknown categories will be encoded as all zeros\n",
      "  warnings.warn(\n",
      "/Users/raulguzman/Desktop/AIPM/mercedes/.venv/lib/python3.11/site-packages/sklearn/preprocessing/_encoders.py:246: UserWarning: Found unknown categories in columns [0, 2, 4] during transform. These unknown categories will be encoded as all zeros\n",
      "  warnings.warn(\n"
     ]
    },
    {
     "name": "stdout",
     "output_type": "stream",
     "text": [
      "[CV] END model__max_depth=None, model__max_features=log2, model__min_samples_split=2, model__n_estimators=100; total time=   0.6s\n",
      "[CV] END model__max_depth=None, model__max_features=log2, model__min_samples_split=2, model__n_estimators=100; total time=   0.6s\n",
      "[CV] END model__max_depth=None, model__max_features=log2, model__min_samples_split=2, model__n_estimators=100; total time=   0.6s\n",
      "[CV] END model__max_depth=None, model__max_features=log2, model__min_samples_split=2, model__n_estimators=100; total time=   0.6s\n",
      "[CV] END model__max_depth=None, model__max_features=log2, model__min_samples_split=2, model__n_estimators=100; total time=   0.6s\n",
      "[CV] END model__max_depth=None, model__max_features=log2, model__min_samples_split=2, model__n_estimators=200; total time=   0.6s\n",
      "[CV] END model__max_depth=None, model__max_features=log2, model__min_samples_split=2, model__n_estimators=200; total time=   0.7s\n",
      "[CV] END model__max_depth=None, model__max_features=log2, model__min_samples_split=2, model__n_estimators=200; total time=   0.8s\n",
      "[CV] END model__max_depth=None, model__max_features=log2, model__min_samples_split=2, model__n_estimators=200; total time=   0.8s\n",
      "[CV] END model__max_depth=None, model__max_features=log2, model__min_samples_split=2, model__n_estimators=200; total time=   0.8s\n"
     ]
    },
    {
     "name": "stderr",
     "output_type": "stream",
     "text": [
      "/Users/raulguzman/Desktop/AIPM/mercedes/.venv/lib/python3.11/site-packages/sklearn/preprocessing/_encoders.py:246: UserWarning: Found unknown categories in columns [0, 4] during transform. These unknown categories will be encoded as all zeros\n",
      "  warnings.warn(\n",
      "/Users/raulguzman/Desktop/AIPM/mercedes/.venv/lib/python3.11/site-packages/sklearn/preprocessing/_encoders.py:246: UserWarning: Found unknown categories in columns [0, 2, 4] during transform. These unknown categories will be encoded as all zeros\n",
      "  warnings.warn(\n"
     ]
    },
    {
     "name": "stdout",
     "output_type": "stream",
     "text": [
      "[CV] END model__max_depth=None, model__max_features=log2, model__min_samples_split=5, model__n_estimators=100; total time=   0.5s\n",
      "[CV] END model__max_depth=None, model__max_features=log2, model__min_samples_split=5, model__n_estimators=100; total time=   0.4s\n",
      "[CV] END model__max_depth=None, model__max_features=log2, model__min_samples_split=5, model__n_estimators=100; total time=   0.4s\n",
      "[CV] END model__max_depth=None, model__max_features=log2, model__min_samples_split=5, model__n_estimators=100; total time=   0.7s\n"
     ]
    },
    {
     "name": "stderr",
     "output_type": "stream",
     "text": [
      "/Users/raulguzman/Desktop/AIPM/mercedes/.venv/lib/python3.11/site-packages/sklearn/preprocessing/_encoders.py:246: UserWarning: Found unknown categories in columns [1, 2, 4] during transform. These unknown categories will be encoded as all zeros\n",
      "  warnings.warn(\n",
      "/Users/raulguzman/Desktop/AIPM/mercedes/.venv/lib/python3.11/site-packages/sklearn/preprocessing/_encoders.py:246: UserWarning: Found unknown categories in columns [0, 2, 4] during transform. These unknown categories will be encoded as all zeros\n",
      "  warnings.warn(\n",
      "/Users/raulguzman/Desktop/AIPM/mercedes/.venv/lib/python3.11/site-packages/sklearn/preprocessing/_encoders.py:246: UserWarning: Found unknown categories in columns [2, 4] during transform. These unknown categories will be encoded as all zeros\n",
      "  warnings.warn(\n"
     ]
    },
    {
     "name": "stdout",
     "output_type": "stream",
     "text": [
      "[CV] END model__max_depth=None, model__max_features=log2, model__min_samples_split=5, model__n_estimators=100; total time=   0.6s\n",
      "[CV] END model__max_depth=None, model__max_features=log2, model__min_samples_split=5, model__n_estimators=200; total time=   0.7s\n",
      "[CV] END model__max_depth=None, model__max_features=log2, model__min_samples_split=5, model__n_estimators=200; total time=   0.5s\n",
      "[CV] END model__max_depth=None, model__max_features=log2, model__min_samples_split=5, model__n_estimators=200; total time=   0.7s\n"
     ]
    },
    {
     "name": "stderr",
     "output_type": "stream",
     "text": [
      "/Users/raulguzman/Desktop/AIPM/mercedes/.venv/lib/python3.11/site-packages/sklearn/preprocessing/_encoders.py:246: UserWarning: Found unknown categories in columns [1, 2, 4] during transform. These unknown categories will be encoded as all zeros\n",
      "  warnings.warn(\n",
      "/Users/raulguzman/Desktop/AIPM/mercedes/.venv/lib/python3.11/site-packages/sklearn/preprocessing/_encoders.py:246: UserWarning: Found unknown categories in columns [0, 4] during transform. These unknown categories will be encoded as all zeros\n",
      "  warnings.warn(\n",
      "/Users/raulguzman/Desktop/AIPM/mercedes/.venv/lib/python3.11/site-packages/sklearn/preprocessing/_encoders.py:246: UserWarning: Found unknown categories in columns [0, 2, 4] during transform. These unknown categories will be encoded as all zeros\n",
      "  warnings.warn(\n",
      "/Users/raulguzman/Desktop/AIPM/mercedes/.venv/lib/python3.11/site-packages/sklearn/preprocessing/_encoders.py:246: UserWarning: Found unknown categories in columns [0, 2, 4] during transform. These unknown categories will be encoded as all zeros\n",
      "  warnings.warn(\n",
      "/Users/raulguzman/Desktop/AIPM/mercedes/.venv/lib/python3.11/site-packages/sklearn/preprocessing/_encoders.py:246: UserWarning: Found unknown categories in columns [0, 4] during transform. These unknown categories will be encoded as all zeros\n",
      "  warnings.warn(\n"
     ]
    },
    {
     "name": "stdout",
     "output_type": "stream",
     "text": [
      "[CV] END model__max_depth=None, model__max_features=log2, model__min_samples_split=5, model__n_estimators=200; total time=   0.7s\n",
      "[CV] END model__max_depth=None, model__max_features=log2, model__min_samples_split=2, model__n_estimators=500; total time=   1.7s\n",
      "[CV] END model__max_depth=None, model__max_features=log2, model__min_samples_split=5, model__n_estimators=200; total time=   0.7s\n"
     ]
    },
    {
     "name": "stderr",
     "output_type": "stream",
     "text": [
      "/Users/raulguzman/Desktop/AIPM/mercedes/.venv/lib/python3.11/site-packages/sklearn/preprocessing/_encoders.py:246: UserWarning: Found unknown categories in columns [2, 4] during transform. These unknown categories will be encoded as all zeros\n",
      "  warnings.warn(\n",
      "/Users/raulguzman/Desktop/AIPM/mercedes/.venv/lib/python3.11/site-packages/sklearn/preprocessing/_encoders.py:246: UserWarning: Found unknown categories in columns [0, 2, 4] during transform. These unknown categories will be encoded as all zeros\n",
      "  warnings.warn(\n",
      "/Users/raulguzman/Desktop/AIPM/mercedes/.venv/lib/python3.11/site-packages/sklearn/preprocessing/_encoders.py:246: UserWarning: Found unknown categories in columns [0, 4] during transform. These unknown categories will be encoded as all zeros\n",
      "  warnings.warn(\n",
      "/Users/raulguzman/Desktop/AIPM/mercedes/.venv/lib/python3.11/site-packages/sklearn/preprocessing/_encoders.py:246: UserWarning: Found unknown categories in columns [0, 2, 4] during transform. These unknown categories will be encoded as all zeros\n",
      "  warnings.warn(\n",
      "/Users/raulguzman/Desktop/AIPM/mercedes/.venv/lib/python3.11/site-packages/sklearn/preprocessing/_encoders.py:246: UserWarning: Found unknown categories in columns [0, 2, 4] during transform. These unknown categories will be encoded as all zeros\n",
      "  warnings.warn(\n"
     ]
    },
    {
     "name": "stdout",
     "output_type": "stream",
     "text": [
      "[CV] END model__max_depth=None, model__max_features=log2, model__min_samples_split=10, model__n_estimators=100; total time=   0.4s\n",
      "[CV] END model__max_depth=None, model__max_features=log2, model__min_samples_split=10, model__n_estimators=100; total time=   0.3s\n",
      "[CV] END model__max_depth=None, model__max_features=log2, model__min_samples_split=10, model__n_estimators=100; total time=   0.5s\n",
      "[CV] END model__max_depth=None, model__max_features=log2, model__min_samples_split=2, model__n_estimators=500; total time=   2.0s\n",
      "[CV] END model__max_depth=None, model__max_features=log2, model__min_samples_split=2, model__n_estimators=500; total time=   2.0s\n",
      "[CV] END model__max_depth=None, model__max_features=log2, model__min_samples_split=2, model__n_estimators=500; total time=   2.1s\n"
     ]
    },
    {
     "name": "stderr",
     "output_type": "stream",
     "text": [
      "/Users/raulguzman/Desktop/AIPM/mercedes/.venv/lib/python3.11/site-packages/sklearn/preprocessing/_encoders.py:246: UserWarning: Found unknown categories in columns [0, 2, 4] during transform. These unknown categories will be encoded as all zeros\n",
      "  warnings.warn(\n",
      "/Users/raulguzman/Desktop/AIPM/mercedes/.venv/lib/python3.11/site-packages/sklearn/preprocessing/_encoders.py:246: UserWarning: Found unknown categories in columns [1, 2, 4] during transform. These unknown categories will be encoded as all zeros\n",
      "  warnings.warn(\n",
      "/Users/raulguzman/Desktop/AIPM/mercedes/.venv/lib/python3.11/site-packages/sklearn/preprocessing/_encoders.py:246: UserWarning: Found unknown categories in columns [2, 4] during transform. These unknown categories will be encoded as all zeros\n",
      "  warnings.warn(\n",
      "/Users/raulguzman/Desktop/AIPM/mercedes/.venv/lib/python3.11/site-packages/sklearn/preprocessing/_encoders.py:246: UserWarning: Found unknown categories in columns [1, 2, 4] during transform. These unknown categories will be encoded as all zeros\n",
      "  warnings.warn(\n",
      "/Users/raulguzman/Desktop/AIPM/mercedes/.venv/lib/python3.11/site-packages/sklearn/preprocessing/_encoders.py:246: UserWarning: Found unknown categories in columns [2, 4] during transform. These unknown categories will be encoded as all zeros\n",
      "  warnings.warn(\n"
     ]
    },
    {
     "name": "stdout",
     "output_type": "stream",
     "text": [
      "[CV] END model__max_depth=None, model__max_features=log2, model__min_samples_split=10, model__n_estimators=100; total time=   0.4s\n",
      "[CV] END model__max_depth=None, model__max_features=log2, model__min_samples_split=10, model__n_estimators=100; total time=   0.5s\n",
      "[CV] END model__max_depth=None, model__max_features=log2, model__min_samples_split=2, model__n_estimators=500; total time=   1.8s\n"
     ]
    },
    {
     "name": "stderr",
     "output_type": "stream",
     "text": [
      "/Users/raulguzman/Desktop/AIPM/mercedes/.venv/lib/python3.11/site-packages/sklearn/preprocessing/_encoders.py:246: UserWarning: Found unknown categories in columns [0, 4] during transform. These unknown categories will be encoded as all zeros\n",
      "  warnings.warn(\n",
      "/Users/raulguzman/Desktop/AIPM/mercedes/.venv/lib/python3.11/site-packages/sklearn/preprocessing/_encoders.py:246: UserWarning: Found unknown categories in columns [0, 2, 4] during transform. These unknown categories will be encoded as all zeros\n",
      "  warnings.warn(\n",
      "/Users/raulguzman/Desktop/AIPM/mercedes/.venv/lib/python3.11/site-packages/sklearn/preprocessing/_encoders.py:246: UserWarning: Found unknown categories in columns [0, 4] during transform. These unknown categories will be encoded as all zeros\n",
      "  warnings.warn(\n",
      "/Users/raulguzman/Desktop/AIPM/mercedes/.venv/lib/python3.11/site-packages/sklearn/preprocessing/_encoders.py:246: UserWarning: Found unknown categories in columns [2, 4] during transform. These unknown categories will be encoded as all zeros\n",
      "  warnings.warn(\n",
      "/Users/raulguzman/Desktop/AIPM/mercedes/.venv/lib/python3.11/site-packages/sklearn/preprocessing/_encoders.py:246: UserWarning: Found unknown categories in columns [1, 2, 4] during transform. These unknown categories will be encoded as all zeros\n",
      "  warnings.warn(\n",
      "/Users/raulguzman/Desktop/AIPM/mercedes/.venv/lib/python3.11/site-packages/sklearn/preprocessing/_encoders.py:246: UserWarning: Found unknown categories in columns [0, 2, 4] during transform. These unknown categories will be encoded as all zeros\n",
      "  warnings.warn(\n"
     ]
    },
    {
     "name": "stdout",
     "output_type": "stream",
     "text": [
      "[CV] END model__max_depth=None, model__max_features=log2, model__min_samples_split=10, model__n_estimators=200; total time=   0.6s\n",
      "[CV] END model__max_depth=None, model__max_features=log2, model__min_samples_split=5, model__n_estimators=500; total time=   1.4s\n",
      "[CV] END model__max_depth=None, model__max_features=log2, model__min_samples_split=5, model__n_estimators=500; total time=   1.1s\n",
      "[CV] END model__max_depth=None, model__max_features=log2, model__min_samples_split=5, model__n_estimators=500; total time=   1.3s\n",
      "[CV] END model__max_depth=None, model__max_features=log2, model__min_samples_split=5, model__n_estimators=500; total time=   1.2s\n",
      "[CV] END model__max_depth=None, model__max_features=log2, model__min_samples_split=10, model__n_estimators=200; total time=   0.7s\n"
     ]
    },
    {
     "name": "stderr",
     "output_type": "stream",
     "text": [
      "/Users/raulguzman/Desktop/AIPM/mercedes/.venv/lib/python3.11/site-packages/sklearn/preprocessing/_encoders.py:246: UserWarning: Found unknown categories in columns [2, 4] during transform. These unknown categories will be encoded as all zeros\n",
      "  warnings.warn(\n",
      "/Users/raulguzman/Desktop/AIPM/mercedes/.venv/lib/python3.11/site-packages/sklearn/preprocessing/_encoders.py:246: UserWarning: Found unknown categories in columns [0, 2, 4] during transform. These unknown categories will be encoded as all zeros\n",
      "  warnings.warn(\n",
      "/Users/raulguzman/Desktop/AIPM/mercedes/.venv/lib/python3.11/site-packages/sklearn/preprocessing/_encoders.py:246: UserWarning: Found unknown categories in columns [0, 2, 4] during transform. These unknown categories will be encoded as all zeros\n",
      "  warnings.warn(\n",
      "/Users/raulguzman/Desktop/AIPM/mercedes/.venv/lib/python3.11/site-packages/sklearn/preprocessing/_encoders.py:246: UserWarning: Found unknown categories in columns [1, 2, 4] during transform. These unknown categories will be encoded as all zeros\n",
      "  warnings.warn(\n"
     ]
    },
    {
     "name": "stdout",
     "output_type": "stream",
     "text": [
      "[CV] END model__max_depth=None, model__max_features=log2, model__min_samples_split=10, model__n_estimators=200; total time=   0.7s\n",
      "[CV] END model__max_depth=None, model__max_features=log2, model__min_samples_split=10, model__n_estimators=200; total time=   0.6s\n",
      "[CV] END model__max_depth=None, model__max_features=log2, model__min_samples_split=10, model__n_estimators=200; total time=   0.7s\n",
      "[CV] END model__max_depth=None, model__max_features=log2, model__min_samples_split=5, model__n_estimators=500; total time=   1.5s\n"
     ]
    },
    {
     "name": "stderr",
     "output_type": "stream",
     "text": [
      "/Users/raulguzman/Desktop/AIPM/mercedes/.venv/lib/python3.11/site-packages/sklearn/preprocessing/_encoders.py:246: UserWarning: Found unknown categories in columns [0, 4] during transform. These unknown categories will be encoded as all zeros\n",
      "  warnings.warn(\n",
      "/Users/raulguzman/Desktop/AIPM/mercedes/.venv/lib/python3.11/site-packages/sklearn/preprocessing/_encoders.py:246: UserWarning: Found unknown categories in columns [0, 2, 4] during transform. These unknown categories will be encoded as all zeros\n",
      "  warnings.warn(\n",
      "/Users/raulguzman/Desktop/AIPM/mercedes/.venv/lib/python3.11/site-packages/sklearn/preprocessing/_encoders.py:246: UserWarning: Found unknown categories in columns [1, 2, 4] during transform. These unknown categories will be encoded as all zeros\n",
      "  warnings.warn(\n",
      "/Users/raulguzman/Desktop/AIPM/mercedes/.venv/lib/python3.11/site-packages/sklearn/preprocessing/_encoders.py:246: UserWarning: Found unknown categories in columns [2, 4] during transform. These unknown categories will be encoded as all zeros\n",
      "  warnings.warn(\n",
      "/Users/raulguzman/Desktop/AIPM/mercedes/.venv/lib/python3.11/site-packages/sklearn/preprocessing/_encoders.py:246: UserWarning: Found unknown categories in columns [0, 4] during transform. These unknown categories will be encoded as all zeros\n",
      "  warnings.warn(\n",
      "/Users/raulguzman/Desktop/AIPM/mercedes/.venv/lib/python3.11/site-packages/sklearn/preprocessing/_encoders.py:246: UserWarning: Found unknown categories in columns [1, 2, 4] during transform. These unknown categories will be encoded as all zeros\n",
      "  warnings.warn(\n",
      "/Users/raulguzman/Desktop/AIPM/mercedes/.venv/lib/python3.11/site-packages/sklearn/preprocessing/_encoders.py:246: UserWarning: Found unknown categories in columns [0, 2, 4] during transform. These unknown categories will be encoded as all zeros\n",
      "  warnings.warn(\n"
     ]
    },
    {
     "name": "stdout",
     "output_type": "stream",
     "text": [
      "[CV] END model__max_depth=None, model__max_features=sqrt, model__min_samples_split=2, model__n_estimators=100; total time=   0.4s\n",
      "[CV] END model__max_depth=None, model__max_features=sqrt, model__min_samples_split=2, model__n_estimators=100; total time=   0.6s\n",
      "[CV] END model__max_depth=None, model__max_features=sqrt, model__min_samples_split=2, model__n_estimators=100; total time=   0.6s\n",
      "[CV] END model__max_depth=None, model__max_features=log2, model__min_samples_split=10, model__n_estimators=500; total time=   1.0s\n",
      "[CV] END model__max_depth=None, model__max_features=sqrt, model__min_samples_split=2, model__n_estimators=100; total time=   0.6s\n"
     ]
    },
    {
     "name": "stderr",
     "output_type": "stream",
     "text": [
      "/Users/raulguzman/Desktop/AIPM/mercedes/.venv/lib/python3.11/site-packages/sklearn/preprocessing/_encoders.py:246: UserWarning: Found unknown categories in columns [0, 2, 4] during transform. These unknown categories will be encoded as all zeros\n",
      "  warnings.warn(\n"
     ]
    },
    {
     "name": "stdout",
     "output_type": "stream",
     "text": [
      "[CV] END model__max_depth=None, model__max_features=log2, model__min_samples_split=10, model__n_estimators=500; total time=   1.0s\n",
      "[CV] END model__max_depth=None, model__max_features=sqrt, model__min_samples_split=2, model__n_estimators=100; total time=   0.6s\n",
      "[CV] END model__max_depth=None, model__max_features=log2, model__min_samples_split=10, model__n_estimators=500; total time=   1.0s\n"
     ]
    },
    {
     "name": "stderr",
     "output_type": "stream",
     "text": [
      "/Users/raulguzman/Desktop/AIPM/mercedes/.venv/lib/python3.11/site-packages/sklearn/preprocessing/_encoders.py:246: UserWarning: Found unknown categories in columns [0, 2, 4] during transform. These unknown categories will be encoded as all zeros\n",
      "  warnings.warn(\n",
      "/Users/raulguzman/Desktop/AIPM/mercedes/.venv/lib/python3.11/site-packages/sklearn/preprocessing/_encoders.py:246: UserWarning: Found unknown categories in columns [0, 2, 4] during transform. These unknown categories will be encoded as all zeros\n",
      "  warnings.warn(\n",
      "/Users/raulguzman/Desktop/AIPM/mercedes/.venv/lib/python3.11/site-packages/sklearn/preprocessing/_encoders.py:246: UserWarning: Found unknown categories in columns [0, 4] during transform. These unknown categories will be encoded as all zeros\n",
      "  warnings.warn(\n",
      "/Users/raulguzman/Desktop/AIPM/mercedes/.venv/lib/python3.11/site-packages/sklearn/preprocessing/_encoders.py:246: UserWarning: Found unknown categories in columns [0, 2, 4] during transform. These unknown categories will be encoded as all zeros\n",
      "  warnings.warn(\n",
      "/Users/raulguzman/Desktop/AIPM/mercedes/.venv/lib/python3.11/site-packages/sklearn/preprocessing/_encoders.py:246: UserWarning: Found unknown categories in columns [0, 4] during transform. These unknown categories will be encoded as all zeros\n",
      "  warnings.warn(\n"
     ]
    },
    {
     "name": "stdout",
     "output_type": "stream",
     "text": [
      "[CV] END model__max_depth=None, model__max_features=log2, model__min_samples_split=10, model__n_estimators=500; total time=   1.4s\n",
      "[CV] END model__max_depth=None, model__max_features=sqrt, model__min_samples_split=5, model__n_estimators=100; total time=   0.3s\n",
      "[CV] END model__max_depth=None, model__max_features=sqrt, model__min_samples_split=2, model__n_estimators=200; total time=   0.9s\n",
      "[CV] END model__max_depth=None, model__max_features=sqrt, model__min_samples_split=2, model__n_estimators=200; total time=   0.9s\n",
      "[CV] END model__max_depth=None, model__max_features=sqrt, model__min_samples_split=5, model__n_estimators=100; total time=   0.5s\n"
     ]
    },
    {
     "name": "stderr",
     "output_type": "stream",
     "text": [
      "/Users/raulguzman/Desktop/AIPM/mercedes/.venv/lib/python3.11/site-packages/sklearn/preprocessing/_encoders.py:246: UserWarning: Found unknown categories in columns [2, 4] during transform. These unknown categories will be encoded as all zeros\n",
      "  warnings.warn(\n",
      "/Users/raulguzman/Desktop/AIPM/mercedes/.venv/lib/python3.11/site-packages/sklearn/preprocessing/_encoders.py:246: UserWarning: Found unknown categories in columns [0, 2, 4] during transform. These unknown categories will be encoded as all zeros\n",
      "  warnings.warn(\n"
     ]
    },
    {
     "name": "stdout",
     "output_type": "stream",
     "text": [
      "[CV] END model__max_depth=None, model__max_features=log2, model__min_samples_split=10, model__n_estimators=500; total time=   1.4s\n",
      "[CV] END model__max_depth=None, model__max_features=sqrt, model__min_samples_split=2, model__n_estimators=200; total time=   1.1s\n",
      "[CV] END model__max_depth=None, model__max_features=sqrt, model__min_samples_split=2, model__n_estimators=200; total time=   1.2s\n"
     ]
    },
    {
     "name": "stderr",
     "output_type": "stream",
     "text": [
      "/Users/raulguzman/Desktop/AIPM/mercedes/.venv/lib/python3.11/site-packages/sklearn/preprocessing/_encoders.py:246: UserWarning: Found unknown categories in columns [1, 2, 4] during transform. These unknown categories will be encoded as all zeros\n",
      "  warnings.warn(\n",
      "/Users/raulguzman/Desktop/AIPM/mercedes/.venv/lib/python3.11/site-packages/sklearn/preprocessing/_encoders.py:246: UserWarning: Found unknown categories in columns [2, 4] during transform. These unknown categories will be encoded as all zeros\n",
      "  warnings.warn(\n",
      "/Users/raulguzman/Desktop/AIPM/mercedes/.venv/lib/python3.11/site-packages/sklearn/preprocessing/_encoders.py:246: UserWarning: Found unknown categories in columns [2, 4] during transform. These unknown categories will be encoded as all zeros\n",
      "  warnings.warn(\n",
      "/Users/raulguzman/Desktop/AIPM/mercedes/.venv/lib/python3.11/site-packages/sklearn/preprocessing/_encoders.py:246: UserWarning: Found unknown categories in columns [0, 2, 4] during transform. These unknown categories will be encoded as all zeros\n",
      "  warnings.warn(\n",
      "/Users/raulguzman/Desktop/AIPM/mercedes/.venv/lib/python3.11/site-packages/sklearn/preprocessing/_encoders.py:246: UserWarning: Found unknown categories in columns [1, 2, 4] during transform. These unknown categories will be encoded as all zeros\n",
      "  warnings.warn(\n"
     ]
    },
    {
     "name": "stdout",
     "output_type": "stream",
     "text": [
      "[CV] END model__max_depth=None, model__max_features=sqrt, model__min_samples_split=5, model__n_estimators=100; total time=   0.5s\n",
      "[CV] END model__max_depth=None, model__max_features=sqrt, model__min_samples_split=5, model__n_estimators=100; total time=   0.6s\n",
      "[CV] END model__max_depth=None, model__max_features=sqrt, model__min_samples_split=5, model__n_estimators=100; total time=   0.6s\n",
      "[CV] END model__max_depth=None, model__max_features=sqrt, model__min_samples_split=2, model__n_estimators=200; total time=   1.2s\n"
     ]
    },
    {
     "name": "stderr",
     "output_type": "stream",
     "text": [
      "/Users/raulguzman/Desktop/AIPM/mercedes/.venv/lib/python3.11/site-packages/sklearn/preprocessing/_encoders.py:246: UserWarning: Found unknown categories in columns [0, 4] during transform. These unknown categories will be encoded as all zeros\n",
      "  warnings.warn(\n",
      "/Users/raulguzman/Desktop/AIPM/mercedes/.venv/lib/python3.11/site-packages/sklearn/preprocessing/_encoders.py:246: UserWarning: Found unknown categories in columns [0, 2, 4] during transform. These unknown categories will be encoded as all zeros\n",
      "  warnings.warn(\n"
     ]
    },
    {
     "name": "stdout",
     "output_type": "stream",
     "text": [
      "[CV] END model__max_depth=None, model__max_features=sqrt, model__min_samples_split=5, model__n_estimators=200; total time=   0.8s\n",
      "[CV] END model__max_depth=None, model__max_features=sqrt, model__min_samples_split=5, model__n_estimators=200; total time=   1.0s\n"
     ]
    },
    {
     "name": "stderr",
     "output_type": "stream",
     "text": [
      "/Users/raulguzman/Desktop/AIPM/mercedes/.venv/lib/python3.11/site-packages/sklearn/preprocessing/_encoders.py:246: UserWarning: Found unknown categories in columns [0, 2, 4] during transform. These unknown categories will be encoded as all zeros\n",
      "  warnings.warn(\n",
      "/Users/raulguzman/Desktop/AIPM/mercedes/.venv/lib/python3.11/site-packages/sklearn/preprocessing/_encoders.py:246: UserWarning: Found unknown categories in columns [1, 2, 4] during transform. These unknown categories will be encoded as all zeros\n",
      "  warnings.warn(\n",
      "/Users/raulguzman/Desktop/AIPM/mercedes/.venv/lib/python3.11/site-packages/sklearn/preprocessing/_encoders.py:246: UserWarning: Found unknown categories in columns [2, 4] during transform. These unknown categories will be encoded as all zeros\n",
      "  warnings.warn(\n"
     ]
    },
    {
     "name": "stdout",
     "output_type": "stream",
     "text": [
      "[CV] END model__max_depth=None, model__max_features=sqrt, model__min_samples_split=5, model__n_estimators=200; total time=   1.0s\n",
      "[CV] END model__max_depth=None, model__max_features=sqrt, model__min_samples_split=5, model__n_estimators=200; total time=   1.1s\n",
      "[CV] END model__max_depth=None, model__max_features=sqrt, model__min_samples_split=5, model__n_estimators=200; total time=   1.0s\n"
     ]
    },
    {
     "name": "stderr",
     "output_type": "stream",
     "text": [
      "/Users/raulguzman/Desktop/AIPM/mercedes/.venv/lib/python3.11/site-packages/sklearn/preprocessing/_encoders.py:246: UserWarning: Found unknown categories in columns [0, 4] during transform. These unknown categories will be encoded as all zeros\n",
      "  warnings.warn(\n"
     ]
    },
    {
     "name": "stdout",
     "output_type": "stream",
     "text": [
      "[CV] END model__max_depth=None, model__max_features=sqrt, model__min_samples_split=10, model__n_estimators=100; total time=   0.5s\n"
     ]
    },
    {
     "name": "stderr",
     "output_type": "stream",
     "text": [
      "/Users/raulguzman/Desktop/AIPM/mercedes/.venv/lib/python3.11/site-packages/sklearn/preprocessing/_encoders.py:246: UserWarning: Found unknown categories in columns [0, 2, 4] during transform. These unknown categories will be encoded as all zeros\n",
      "  warnings.warn(\n",
      "/Users/raulguzman/Desktop/AIPM/mercedes/.venv/lib/python3.11/site-packages/sklearn/preprocessing/_encoders.py:246: UserWarning: Found unknown categories in columns [1, 2, 4] during transform. These unknown categories will be encoded as all zeros\n",
      "  warnings.warn(\n",
      "/Users/raulguzman/Desktop/AIPM/mercedes/.venv/lib/python3.11/site-packages/sklearn/preprocessing/_encoders.py:246: UserWarning: Found unknown categories in columns [0, 2, 4] during transform. These unknown categories will be encoded as all zeros\n",
      "  warnings.warn(\n",
      "/Users/raulguzman/Desktop/AIPM/mercedes/.venv/lib/python3.11/site-packages/sklearn/preprocessing/_encoders.py:246: UserWarning: Found unknown categories in columns [1, 2, 4] during transform. These unknown categories will be encoded as all zeros\n",
      "  warnings.warn(\n",
      "/Users/raulguzman/Desktop/AIPM/mercedes/.venv/lib/python3.11/site-packages/sklearn/preprocessing/_encoders.py:246: UserWarning: Found unknown categories in columns [0, 4] during transform. These unknown categories will be encoded as all zeros\n",
      "  warnings.warn(\n",
      "/Users/raulguzman/Desktop/AIPM/mercedes/.venv/lib/python3.11/site-packages/sklearn/preprocessing/_encoders.py:246: UserWarning: Found unknown categories in columns [0, 2, 4] during transform. These unknown categories will be encoded as all zeros\n",
      "  warnings.warn(\n"
     ]
    },
    {
     "name": "stdout",
     "output_type": "stream",
     "text": [
      "[CV] END model__max_depth=None, model__max_features=sqrt, model__min_samples_split=10, model__n_estimators=100; total time=   0.6s\n",
      "[CV] END model__max_depth=None, model__max_features=sqrt, model__min_samples_split=10, model__n_estimators=100; total time=   0.5s\n",
      "[CV] END model__max_depth=None, model__max_features=sqrt, model__min_samples_split=10, model__n_estimators=100; total time=   0.6s\n",
      "[CV] END model__max_depth=None, model__max_features=sqrt, model__min_samples_split=2, model__n_estimators=500; total time=   2.4s\n",
      "[CV] END model__max_depth=None, model__max_features=sqrt, model__min_samples_split=2, model__n_estimators=500; total time=   2.4s\n"
     ]
    },
    {
     "name": "stderr",
     "output_type": "stream",
     "text": [
      "/Users/raulguzman/Desktop/AIPM/mercedes/.venv/lib/python3.11/site-packages/sklearn/preprocessing/_encoders.py:246: UserWarning: Found unknown categories in columns [2, 4] during transform. These unknown categories will be encoded as all zeros\n",
      "  warnings.warn(\n",
      "/Users/raulguzman/Desktop/AIPM/mercedes/.venv/lib/python3.11/site-packages/sklearn/preprocessing/_encoders.py:246: UserWarning: Found unknown categories in columns [2, 4] during transform. These unknown categories will be encoded as all zeros\n",
      "  warnings.warn(\n"
     ]
    },
    {
     "name": "stdout",
     "output_type": "stream",
     "text": [
      "[CV] END model__max_depth=None, model__max_features=sqrt, model__min_samples_split=2, model__n_estimators=500; total time=   2.5s\n",
      "[CV] END model__max_depth=None, model__max_features=sqrt, model__min_samples_split=2, model__n_estimators=500; total time=   2.5s\n",
      "[CV] END model__max_depth=None, model__max_features=sqrt, model__min_samples_split=10, model__n_estimators=100; total time=   0.7s\n"
     ]
    },
    {
     "name": "stderr",
     "output_type": "stream",
     "text": [
      "/Users/raulguzman/Desktop/AIPM/mercedes/.venv/lib/python3.11/site-packages/sklearn/preprocessing/_encoders.py:246: UserWarning: Found unknown categories in columns [0, 2, 4] during transform. These unknown categories will be encoded as all zeros\n",
      "  warnings.warn(\n",
      "/Users/raulguzman/Desktop/AIPM/mercedes/.venv/lib/python3.11/site-packages/sklearn/preprocessing/_encoders.py:246: UserWarning: Found unknown categories in columns [0, 2, 4] during transform. These unknown categories will be encoded as all zeros\n",
      "  warnings.warn(\n",
      "/Users/raulguzman/Desktop/AIPM/mercedes/.venv/lib/python3.11/site-packages/sklearn/preprocessing/_encoders.py:246: UserWarning: Found unknown categories in columns [0, 4] during transform. These unknown categories will be encoded as all zeros\n",
      "  warnings.warn(\n",
      "/Users/raulguzman/Desktop/AIPM/mercedes/.venv/lib/python3.11/site-packages/sklearn/preprocessing/_encoders.py:246: UserWarning: Found unknown categories in columns [0, 4] during transform. These unknown categories will be encoded as all zeros\n",
      "  warnings.warn(\n",
      "/Users/raulguzman/Desktop/AIPM/mercedes/.venv/lib/python3.11/site-packages/sklearn/preprocessing/_encoders.py:246: UserWarning: Found unknown categories in columns [1, 2, 4] during transform. These unknown categories will be encoded as all zeros\n",
      "  warnings.warn(\n",
      "/Users/raulguzman/Desktop/AIPM/mercedes/.venv/lib/python3.11/site-packages/sklearn/preprocessing/_encoders.py:246: UserWarning: Found unknown categories in columns [1, 2, 4] during transform. These unknown categories will be encoded as all zeros\n",
      "  warnings.warn(\n",
      "/Users/raulguzman/Desktop/AIPM/mercedes/.venv/lib/python3.11/site-packages/sklearn/preprocessing/_encoders.py:246: UserWarning: Found unknown categories in columns [0, 2, 4] during transform. These unknown categories will be encoded as all zeros\n",
      "  warnings.warn(\n"
     ]
    },
    {
     "name": "stdout",
     "output_type": "stream",
     "text": [
      "[CV] END model__max_depth=None, model__max_features=sqrt, model__min_samples_split=2, model__n_estimators=500; total time=   2.9s\n",
      "[CV] END model__max_depth=None, model__max_features=sqrt, model__min_samples_split=5, model__n_estimators=500; total time=   1.9s\n",
      "[CV] END model__max_depth=None, model__max_features=sqrt, model__min_samples_split=10, model__n_estimators=200; total time=   0.8s\n",
      "[CV] END model__max_depth=None, model__max_features=sqrt, model__min_samples_split=10, model__n_estimators=200; total time=   0.7s\n",
      "[CV] END model__max_depth=None, model__max_features=sqrt, model__min_samples_split=5, model__n_estimators=500; total time=   2.1s\n",
      "[CV] END model__max_depth=None, model__max_features=sqrt, model__min_samples_split=5, model__n_estimators=500; total time=   2.1s\n",
      "[CV] END model__max_depth=None, model__max_features=sqrt, model__min_samples_split=5, model__n_estimators=500; total time=   2.1s\n"
     ]
    },
    {
     "name": "stderr",
     "output_type": "stream",
     "text": [
      "/Users/raulguzman/Desktop/AIPM/mercedes/.venv/lib/python3.11/site-packages/sklearn/preprocessing/_encoders.py:246: UserWarning: Found unknown categories in columns [2, 4] during transform. These unknown categories will be encoded as all zeros\n",
      "  warnings.warn(\n",
      "/Users/raulguzman/Desktop/AIPM/mercedes/.venv/lib/python3.11/site-packages/sklearn/preprocessing/_encoders.py:246: UserWarning: Found unknown categories in columns [0, 2, 4] during transform. These unknown categories will be encoded as all zeros\n",
      "  warnings.warn(\n",
      "/Users/raulguzman/Desktop/AIPM/mercedes/.venv/lib/python3.11/site-packages/sklearn/preprocessing/_encoders.py:246: UserWarning: Found unknown categories in columns [2, 4] during transform. These unknown categories will be encoded as all zeros\n",
      "  warnings.warn(\n",
      "/Users/raulguzman/Desktop/AIPM/mercedes/.venv/lib/python3.11/site-packages/sklearn/preprocessing/_encoders.py:246: UserWarning: Found unknown categories in columns [0, 2, 4] during transform. These unknown categories will be encoded as all zeros\n",
      "  warnings.warn(\n",
      "/Users/raulguzman/Desktop/AIPM/mercedes/.venv/lib/python3.11/site-packages/sklearn/preprocessing/_encoders.py:246: UserWarning: Found unknown categories in columns [0, 4] during transform. These unknown categories will be encoded as all zeros\n",
      "  warnings.warn(\n"
     ]
    },
    {
     "name": "stdout",
     "output_type": "stream",
     "text": [
      "[CV] END model__max_depth=None, model__max_features=sqrt, model__min_samples_split=10, model__n_estimators=200; total time=   0.8s\n",
      "[CV] END model__max_depth=None, model__max_features=sqrt, model__min_samples_split=10, model__n_estimators=200; total time=   0.8s\n",
      "[CV] END model__max_depth=None, model__max_features=sqrt, model__min_samples_split=10, model__n_estimators=200; total time=   0.8s\n",
      "[CV] END model__max_depth=None, model__max_features=sqrt, model__min_samples_split=5, model__n_estimators=500; total time=   1.9s\n",
      "[CV] END model__max_depth=10, model__max_features=log2, model__min_samples_split=2, model__n_estimators=100; total time=   0.3s\n",
      "[CV] END model__max_depth=10, model__max_features=log2, model__min_samples_split=2, model__n_estimators=100; total time=   0.3s\n"
     ]
    },
    {
     "name": "stderr",
     "output_type": "stream",
     "text": [
      "/Users/raulguzman/Desktop/AIPM/mercedes/.venv/lib/python3.11/site-packages/sklearn/preprocessing/_encoders.py:246: UserWarning: Found unknown categories in columns [0, 2, 4] during transform. These unknown categories will be encoded as all zeros\n",
      "  warnings.warn(\n",
      "/Users/raulguzman/Desktop/AIPM/mercedes/.venv/lib/python3.11/site-packages/sklearn/preprocessing/_encoders.py:246: UserWarning: Found unknown categories in columns [2, 4] during transform. These unknown categories will be encoded as all zeros\n",
      "  warnings.warn(\n",
      "/Users/raulguzman/Desktop/AIPM/mercedes/.venv/lib/python3.11/site-packages/sklearn/preprocessing/_encoders.py:246: UserWarning: Found unknown categories in columns [1, 2, 4] during transform. These unknown categories will be encoded as all zeros\n",
      "  warnings.warn(\n",
      "/Users/raulguzman/Desktop/AIPM/mercedes/.venv/lib/python3.11/site-packages/sklearn/preprocessing/_encoders.py:246: UserWarning: Found unknown categories in columns [0, 2, 4] during transform. These unknown categories will be encoded as all zeros\n",
      "  warnings.warn(\n"
     ]
    },
    {
     "name": "stdout",
     "output_type": "stream",
     "text": [
      "[CV] END model__max_depth=10, model__max_features=log2, model__min_samples_split=2, model__n_estimators=100; total time=   0.3s\n",
      "[CV] END model__max_depth=10, model__max_features=log2, model__min_samples_split=2, model__n_estimators=100; total time=   0.3s\n",
      "[CV] END model__max_depth=10, model__max_features=log2, model__min_samples_split=2, model__n_estimators=100; total time=   0.4s\n"
     ]
    },
    {
     "name": "stderr",
     "output_type": "stream",
     "text": [
      "/Users/raulguzman/Desktop/AIPM/mercedes/.venv/lib/python3.11/site-packages/sklearn/preprocessing/_encoders.py:246: UserWarning: Found unknown categories in columns [0, 4] during transform. These unknown categories will be encoded as all zeros\n",
      "  warnings.warn(\n",
      "/Users/raulguzman/Desktop/AIPM/mercedes/.venv/lib/python3.11/site-packages/sklearn/preprocessing/_encoders.py:246: UserWarning: Found unknown categories in columns [0, 2, 4] during transform. These unknown categories will be encoded as all zeros\n",
      "  warnings.warn(\n",
      "/Users/raulguzman/Desktop/AIPM/mercedes/.venv/lib/python3.11/site-packages/sklearn/preprocessing/_encoders.py:246: UserWarning: Found unknown categories in columns [0, 2, 4] during transform. These unknown categories will be encoded as all zeros\n",
      "  warnings.warn(\n",
      "/Users/raulguzman/Desktop/AIPM/mercedes/.venv/lib/python3.11/site-packages/sklearn/preprocessing/_encoders.py:246: UserWarning: Found unknown categories in columns [1, 2, 4] during transform. These unknown categories will be encoded as all zeros\n",
      "  warnings.warn(\n",
      "/Users/raulguzman/Desktop/AIPM/mercedes/.venv/lib/python3.11/site-packages/sklearn/preprocessing/_encoders.py:246: UserWarning: Found unknown categories in columns [0, 2, 4] during transform. These unknown categories will be encoded as all zeros\n",
      "  warnings.warn(\n",
      "/Users/raulguzman/Desktop/AIPM/mercedes/.venv/lib/python3.11/site-packages/sklearn/preprocessing/_encoders.py:246: UserWarning: Found unknown categories in columns [0, 4] during transform. These unknown categories will be encoded as all zeros\n",
      "  warnings.warn(\n",
      "/Users/raulguzman/Desktop/AIPM/mercedes/.venv/lib/python3.11/site-packages/sklearn/preprocessing/_encoders.py:246: UserWarning: Found unknown categories in columns [2, 4] during transform. These unknown categories will be encoded as all zeros\n",
      "  warnings.warn(\n"
     ]
    },
    {
     "name": "stdout",
     "output_type": "stream",
     "text": [
      "[CV] END model__max_depth=10, model__max_features=log2, model__min_samples_split=2, model__n_estimators=200; total time=   0.5s\n",
      "[CV] END model__max_depth=10, model__max_features=log2, model__min_samples_split=2, model__n_estimators=200; total time=   0.5s\n",
      "[CV] END model__max_depth=10, model__max_features=log2, model__min_samples_split=2, model__n_estimators=200; total time=   0.5s\n",
      "[CV] END model__max_depth=10, model__max_features=log2, model__min_samples_split=2, model__n_estimators=200; total time=   0.5s\n",
      "[CV] END model__max_depth=10, model__max_features=log2, model__min_samples_split=2, model__n_estimators=200; total time=   0.5s\n",
      "[CV] END model__max_depth=None, model__max_features=sqrt, model__min_samples_split=10, model__n_estimators=500; total time=   1.4s\n",
      "[CV] END model__max_depth=None, model__max_features=sqrt, model__min_samples_split=10, model__n_estimators=500; total time=   1.3s\n"
     ]
    },
    {
     "name": "stderr",
     "output_type": "stream",
     "text": [
      "/Users/raulguzman/Desktop/AIPM/mercedes/.venv/lib/python3.11/site-packages/sklearn/preprocessing/_encoders.py:246: UserWarning: Found unknown categories in columns [0, 4] during transform. These unknown categories will be encoded as all zeros\n",
      "  warnings.warn(\n",
      "/Users/raulguzman/Desktop/AIPM/mercedes/.venv/lib/python3.11/site-packages/sklearn/preprocessing/_encoders.py:246: UserWarning: Found unknown categories in columns [0, 2, 4] during transform. These unknown categories will be encoded as all zeros\n",
      "  warnings.warn(\n",
      "/Users/raulguzman/Desktop/AIPM/mercedes/.venv/lib/python3.11/site-packages/sklearn/preprocessing/_encoders.py:246: UserWarning: Found unknown categories in columns [0, 2, 4] during transform. These unknown categories will be encoded as all zeros\n",
      "  warnings.warn(\n",
      "/Users/raulguzman/Desktop/AIPM/mercedes/.venv/lib/python3.11/site-packages/sklearn/preprocessing/_encoders.py:246: UserWarning: Found unknown categories in columns [2, 4] during transform. These unknown categories will be encoded as all zeros\n",
      "  warnings.warn(\n",
      "/Users/raulguzman/Desktop/AIPM/mercedes/.venv/lib/python3.11/site-packages/sklearn/preprocessing/_encoders.py:246: UserWarning: Found unknown categories in columns [0, 2, 4] during transform. These unknown categories will be encoded as all zeros\n",
      "  warnings.warn(\n"
     ]
    },
    {
     "name": "stdout",
     "output_type": "stream",
     "text": [
      "[CV] END model__max_depth=10, model__max_features=log2, model__min_samples_split=5, model__n_estimators=100; total time=   0.2s\n",
      "[CV] END model__max_depth=10, model__max_features=log2, model__min_samples_split=5, model__n_estimators=100; total time=   0.3s\n",
      "[CV] END model__max_depth=10, model__max_features=log2, model__min_samples_split=5, model__n_estimators=100; total time=   0.3s\n",
      "[CV] END model__max_depth=None, model__max_features=sqrt, model__min_samples_split=10, model__n_estimators=500; total time=   1.1s\n",
      "[CV] END model__max_depth=None, model__max_features=sqrt, model__min_samples_split=10, model__n_estimators=500; total time=   1.5s\n"
     ]
    },
    {
     "name": "stderr",
     "output_type": "stream",
     "text": [
      "/Users/raulguzman/Desktop/AIPM/mercedes/.venv/lib/python3.11/site-packages/sklearn/preprocessing/_encoders.py:246: UserWarning: Found unknown categories in columns [1, 2, 4] during transform. These unknown categories will be encoded as all zeros\n",
      "  warnings.warn(\n",
      "/Users/raulguzman/Desktop/AIPM/mercedes/.venv/lib/python3.11/site-packages/sklearn/preprocessing/_encoders.py:246: UserWarning: Found unknown categories in columns [2, 4] during transform. These unknown categories will be encoded as all zeros\n",
      "  warnings.warn(\n",
      "/Users/raulguzman/Desktop/AIPM/mercedes/.venv/lib/python3.11/site-packages/sklearn/preprocessing/_encoders.py:246: UserWarning: Found unknown categories in columns [0, 2, 4] during transform. These unknown categories will be encoded as all zeros\n",
      "  warnings.warn(\n",
      "/Users/raulguzman/Desktop/AIPM/mercedes/.venv/lib/python3.11/site-packages/sklearn/preprocessing/_encoders.py:246: UserWarning: Found unknown categories in columns [0, 4] during transform. These unknown categories will be encoded as all zeros\n",
      "  warnings.warn(\n",
      "/Users/raulguzman/Desktop/AIPM/mercedes/.venv/lib/python3.11/site-packages/sklearn/preprocessing/_encoders.py:246: UserWarning: Found unknown categories in columns [1, 2, 4] during transform. These unknown categories will be encoded as all zeros\n",
      "  warnings.warn(\n",
      "/Users/raulguzman/Desktop/AIPM/mercedes/.venv/lib/python3.11/site-packages/sklearn/preprocessing/_encoders.py:246: UserWarning: Found unknown categories in columns [0, 2, 4] during transform. These unknown categories will be encoded as all zeros\n",
      "  warnings.warn(\n"
     ]
    },
    {
     "name": "stdout",
     "output_type": "stream",
     "text": [
      "[CV] END model__max_depth=10, model__max_features=log2, model__min_samples_split=5, model__n_estimators=100; total time=   0.3s\n",
      "[CV] END model__max_depth=10, model__max_features=log2, model__min_samples_split=5, model__n_estimators=100; total time=   0.3s\n",
      "[CV] END model__max_depth=10, model__max_features=log2, model__min_samples_split=2, model__n_estimators=500; total time=   0.9s\n",
      "[CV] END model__max_depth=None, model__max_features=sqrt, model__min_samples_split=10, model__n_estimators=500; total time=   1.3s\n",
      "[CV] END model__max_depth=10, model__max_features=log2, model__min_samples_split=2, model__n_estimators=500; total time=   0.9s\n",
      "[CV] END model__max_depth=10, model__max_features=log2, model__min_samples_split=2, model__n_estimators=500; total time=   0.9s\n",
      "[CV] END model__max_depth=10, model__max_features=log2, model__min_samples_split=5, model__n_estimators=200; total time=   0.4s\n",
      "[CV] END model__max_depth=10, model__max_features=log2, model__min_samples_split=5, model__n_estimators=200; total time=   0.3s\n",
      "[CV] END model__max_depth=10, model__max_features=log2, model__min_samples_split=5, model__n_estimators=200; total time=   0.4s\n"
     ]
    },
    {
     "name": "stderr",
     "output_type": "stream",
     "text": [
      "/Users/raulguzman/Desktop/AIPM/mercedes/.venv/lib/python3.11/site-packages/sklearn/preprocessing/_encoders.py:246: UserWarning: Found unknown categories in columns [0, 2, 4] during transform. These unknown categories will be encoded as all zeros\n",
      "  warnings.warn(\n",
      "/Users/raulguzman/Desktop/AIPM/mercedes/.venv/lib/python3.11/site-packages/sklearn/preprocessing/_encoders.py:246: UserWarning: Found unknown categories in columns [0, 4] during transform. These unknown categories will be encoded as all zeros\n",
      "  warnings.warn(\n",
      "/Users/raulguzman/Desktop/AIPM/mercedes/.venv/lib/python3.11/site-packages/sklearn/preprocessing/_encoders.py:246: UserWarning: Found unknown categories in columns [0, 2, 4] during transform. These unknown categories will be encoded as all zeros\n",
      "  warnings.warn(\n",
      "/Users/raulguzman/Desktop/AIPM/mercedes/.venv/lib/python3.11/site-packages/sklearn/preprocessing/_encoders.py:246: UserWarning: Found unknown categories in columns [1, 2, 4] during transform. These unknown categories will be encoded as all zeros\n",
      "  warnings.warn(\n",
      "/Users/raulguzman/Desktop/AIPM/mercedes/.venv/lib/python3.11/site-packages/sklearn/preprocessing/_encoders.py:246: UserWarning: Found unknown categories in columns [2, 4] during transform. These unknown categories will be encoded as all zeros\n",
      "  warnings.warn(\n",
      "/Users/raulguzman/Desktop/AIPM/mercedes/.venv/lib/python3.11/site-packages/sklearn/preprocessing/_encoders.py:246: UserWarning: Found unknown categories in columns [0, 2, 4] during transform. These unknown categories will be encoded as all zeros\n",
      "  warnings.warn(\n",
      "/Users/raulguzman/Desktop/AIPM/mercedes/.venv/lib/python3.11/site-packages/sklearn/preprocessing/_encoders.py:246: UserWarning: Found unknown categories in columns [0, 4] during transform. These unknown categories will be encoded as all zeros\n",
      "  warnings.warn(\n",
      "/Users/raulguzman/Desktop/AIPM/mercedes/.venv/lib/python3.11/site-packages/sklearn/preprocessing/_encoders.py:246: UserWarning: Found unknown categories in columns [1, 2, 4] during transform. These unknown categories will be encoded as all zeros\n",
      "  warnings.warn(\n",
      "/Users/raulguzman/Desktop/AIPM/mercedes/.venv/lib/python3.11/site-packages/sklearn/preprocessing/_encoders.py:246: UserWarning: Found unknown categories in columns [2, 4] during transform. These unknown categories will be encoded as all zeros\n",
      "  warnings.warn(\n",
      "/Users/raulguzman/Desktop/AIPM/mercedes/.venv/lib/python3.11/site-packages/sklearn/preprocessing/_encoders.py:246: UserWarning: Found unknown categories in columns [0, 2, 4] during transform. These unknown categories will be encoded as all zeros\n",
      "  warnings.warn(\n",
      "/Users/raulguzman/Desktop/AIPM/mercedes/.venv/lib/python3.11/site-packages/sklearn/preprocessing/_encoders.py:246: UserWarning: Found unknown categories in columns [1, 2, 4] during transform. These unknown categories will be encoded as all zeros\n",
      "  warnings.warn(\n"
     ]
    },
    {
     "name": "stdout",
     "output_type": "stream",
     "text": [
      "[CV] END model__max_depth=10, model__max_features=log2, model__min_samples_split=5, model__n_estimators=200; total time=   0.4s\n",
      "[CV] END model__max_depth=10, model__max_features=log2, model__min_samples_split=5, model__n_estimators=200; total time=   0.5s\n",
      "[CV] END model__max_depth=10, model__max_features=log2, model__min_samples_split=10, model__n_estimators=100; total time=   0.2s\n",
      "[CV] END model__max_depth=10, model__max_features=log2, model__min_samples_split=10, model__n_estimators=100; total time=   0.2s\n",
      "[CV] END model__max_depth=10, model__max_features=log2, model__min_samples_split=10, model__n_estimators=100; total time=   0.2s\n",
      "[CV] END model__max_depth=10, model__max_features=log2, model__min_samples_split=2, model__n_estimators=500; total time=   1.1s\n",
      "[CV] END model__max_depth=10, model__max_features=log2, model__min_samples_split=10, model__n_estimators=100; total time=   0.2s\n",
      "[CV] END model__max_depth=10, model__max_features=log2, model__min_samples_split=10, model__n_estimators=100; total time=   0.3s\n"
     ]
    },
    {
     "name": "stderr",
     "output_type": "stream",
     "text": [
      "/Users/raulguzman/Desktop/AIPM/mercedes/.venv/lib/python3.11/site-packages/sklearn/preprocessing/_encoders.py:246: UserWarning: Found unknown categories in columns [2, 4] during transform. These unknown categories will be encoded as all zeros\n",
      "  warnings.warn(\n",
      "/Users/raulguzman/Desktop/AIPM/mercedes/.venv/lib/python3.11/site-packages/sklearn/preprocessing/_encoders.py:246: UserWarning: Found unknown categories in columns [0, 2, 4] during transform. These unknown categories will be encoded as all zeros\n",
      "  warnings.warn(\n",
      "/Users/raulguzman/Desktop/AIPM/mercedes/.venv/lib/python3.11/site-packages/sklearn/preprocessing/_encoders.py:246: UserWarning: Found unknown categories in columns [0, 4] during transform. These unknown categories will be encoded as all zeros\n",
      "  warnings.warn(\n",
      "/Users/raulguzman/Desktop/AIPM/mercedes/.venv/lib/python3.11/site-packages/sklearn/preprocessing/_encoders.py:246: UserWarning: Found unknown categories in columns [0, 2, 4] during transform. These unknown categories will be encoded as all zeros\n",
      "  warnings.warn(\n",
      "/Users/raulguzman/Desktop/AIPM/mercedes/.venv/lib/python3.11/site-packages/sklearn/preprocessing/_encoders.py:246: UserWarning: Found unknown categories in columns [0, 4] during transform. These unknown categories will be encoded as all zeros\n",
      "  warnings.warn(\n",
      "/Users/raulguzman/Desktop/AIPM/mercedes/.venv/lib/python3.11/site-packages/sklearn/preprocessing/_encoders.py:246: UserWarning: Found unknown categories in columns [0, 2, 4] during transform. These unknown categories will be encoded as all zeros\n",
      "  warnings.warn(\n"
     ]
    },
    {
     "name": "stdout",
     "output_type": "stream",
     "text": [
      "[CV] END model__max_depth=10, model__max_features=log2, model__min_samples_split=2, model__n_estimators=500; total time=   1.0s\n",
      "[CV] END model__max_depth=10, model__max_features=log2, model__min_samples_split=10, model__n_estimators=200; total time=   0.4s\n",
      "[CV] END model__max_depth=10, model__max_features=log2, model__min_samples_split=10, model__n_estimators=200; total time=   0.4s\n",
      "[CV] END model__max_depth=10, model__max_features=log2, model__min_samples_split=10, model__n_estimators=200; total time=   0.4s\n",
      "[CV] END model__max_depth=10, model__max_features=log2, model__min_samples_split=5, model__n_estimators=500; total time=   0.8s\n"
     ]
    },
    {
     "name": "stderr",
     "output_type": "stream",
     "text": [
      "/Users/raulguzman/Desktop/AIPM/mercedes/.venv/lib/python3.11/site-packages/sklearn/preprocessing/_encoders.py:246: UserWarning: Found unknown categories in columns [2, 4] during transform. These unknown categories will be encoded as all zeros\n",
      "  warnings.warn(\n",
      "/Users/raulguzman/Desktop/AIPM/mercedes/.venv/lib/python3.11/site-packages/sklearn/preprocessing/_encoders.py:246: UserWarning: Found unknown categories in columns [1, 2, 4] during transform. These unknown categories will be encoded as all zeros\n",
      "  warnings.warn(\n",
      "/Users/raulguzman/Desktop/AIPM/mercedes/.venv/lib/python3.11/site-packages/sklearn/preprocessing/_encoders.py:246: UserWarning: Found unknown categories in columns [2, 4] during transform. These unknown categories will be encoded as all zeros\n",
      "  warnings.warn(\n",
      "/Users/raulguzman/Desktop/AIPM/mercedes/.venv/lib/python3.11/site-packages/sklearn/preprocessing/_encoders.py:246: UserWarning: Found unknown categories in columns [1, 2, 4] during transform. These unknown categories will be encoded as all zeros\n",
      "  warnings.warn(\n",
      "/Users/raulguzman/Desktop/AIPM/mercedes/.venv/lib/python3.11/site-packages/sklearn/preprocessing/_encoders.py:246: UserWarning: Found unknown categories in columns [0, 2, 4] during transform. These unknown categories will be encoded as all zeros\n",
      "  warnings.warn(\n",
      "/Users/raulguzman/Desktop/AIPM/mercedes/.venv/lib/python3.11/site-packages/sklearn/preprocessing/_encoders.py:246: UserWarning: Found unknown categories in columns [0, 4] during transform. These unknown categories will be encoded as all zeros\n",
      "  warnings.warn(\n"
     ]
    },
    {
     "name": "stdout",
     "output_type": "stream",
     "text": [
      "[CV] END model__max_depth=10, model__max_features=log2, model__min_samples_split=5, model__n_estimators=500; total time=   0.7s\n",
      "[CV] END model__max_depth=10, model__max_features=log2, model__min_samples_split=10, model__n_estimators=200; total time=   0.5s\n",
      "[CV] END model__max_depth=10, model__max_features=log2, model__min_samples_split=5, model__n_estimators=500; total time=   0.8s\n",
      "[CV] END model__max_depth=10, model__max_features=log2, model__min_samples_split=10, model__n_estimators=200; total time=   0.5s\n",
      "[CV] END model__max_depth=10, model__max_features=log2, model__min_samples_split=5, model__n_estimators=500; total time=   0.8s\n",
      "[CV] END model__max_depth=10, model__max_features=log2, model__min_samples_split=5, model__n_estimators=500; total time=   0.9s\n",
      "[CV] END model__max_depth=10, model__max_features=sqrt, model__min_samples_split=2, model__n_estimators=100; total time=   0.3s\n"
     ]
    },
    {
     "name": "stderr",
     "output_type": "stream",
     "text": [
      "/Users/raulguzman/Desktop/AIPM/mercedes/.venv/lib/python3.11/site-packages/sklearn/preprocessing/_encoders.py:246: UserWarning: Found unknown categories in columns [0, 2, 4] during transform. These unknown categories will be encoded as all zeros\n",
      "  warnings.warn(\n",
      "/Users/raulguzman/Desktop/AIPM/mercedes/.venv/lib/python3.11/site-packages/sklearn/preprocessing/_encoders.py:246: UserWarning: Found unknown categories in columns [0, 2, 4] during transform. These unknown categories will be encoded as all zeros\n",
      "  warnings.warn(\n",
      "/Users/raulguzman/Desktop/AIPM/mercedes/.venv/lib/python3.11/site-packages/sklearn/preprocessing/_encoders.py:246: UserWarning: Found unknown categories in columns [1, 2, 4] during transform. These unknown categories will be encoded as all zeros\n",
      "  warnings.warn(\n",
      "/Users/raulguzman/Desktop/AIPM/mercedes/.venv/lib/python3.11/site-packages/sklearn/preprocessing/_encoders.py:246: UserWarning: Found unknown categories in columns [0, 4] during transform. These unknown categories will be encoded as all zeros\n",
      "  warnings.warn(\n",
      "/Users/raulguzman/Desktop/AIPM/mercedes/.venv/lib/python3.11/site-packages/sklearn/preprocessing/_encoders.py:246: UserWarning: Found unknown categories in columns [2, 4] during transform. These unknown categories will be encoded as all zeros\n",
      "  warnings.warn(\n",
      "/Users/raulguzman/Desktop/AIPM/mercedes/.venv/lib/python3.11/site-packages/sklearn/preprocessing/_encoders.py:246: UserWarning: Found unknown categories in columns [0, 2, 4] during transform. These unknown categories will be encoded as all zeros\n",
      "  warnings.warn(\n"
     ]
    },
    {
     "name": "stdout",
     "output_type": "stream",
     "text": [
      "[CV] END model__max_depth=10, model__max_features=sqrt, model__min_samples_split=2, model__n_estimators=100; total time=   0.3s\n",
      "[CV] END model__max_depth=10, model__max_features=sqrt, model__min_samples_split=2, model__n_estimators=100; total time=   0.3s\n",
      "[CV] END model__max_depth=10, model__max_features=sqrt, model__min_samples_split=2, model__n_estimators=100; total time=   0.3s\n",
      "[CV] END model__max_depth=10, model__max_features=sqrt, model__min_samples_split=2, model__n_estimators=100; total time=   0.3s\n",
      "[CV] END model__max_depth=10, model__max_features=log2, model__min_samples_split=10, model__n_estimators=500; total time=   0.8s\n"
     ]
    },
    {
     "name": "stderr",
     "output_type": "stream",
     "text": [
      "/Users/raulguzman/Desktop/AIPM/mercedes/.venv/lib/python3.11/site-packages/sklearn/preprocessing/_encoders.py:246: UserWarning: Found unknown categories in columns [0, 2, 4] during transform. These unknown categories will be encoded as all zeros\n",
      "  warnings.warn(\n",
      "/Users/raulguzman/Desktop/AIPM/mercedes/.venv/lib/python3.11/site-packages/sklearn/preprocessing/_encoders.py:246: UserWarning: Found unknown categories in columns [2, 4] during transform. These unknown categories will be encoded as all zeros\n",
      "  warnings.warn(\n",
      "/Users/raulguzman/Desktop/AIPM/mercedes/.venv/lib/python3.11/site-packages/sklearn/preprocessing/_encoders.py:246: UserWarning: Found unknown categories in columns [1, 2, 4] during transform. These unknown categories will be encoded as all zeros\n",
      "  warnings.warn(\n",
      "/Users/raulguzman/Desktop/AIPM/mercedes/.venv/lib/python3.11/site-packages/sklearn/preprocessing/_encoders.py:246: UserWarning: Found unknown categories in columns [0, 4] during transform. These unknown categories will be encoded as all zeros\n",
      "  warnings.warn(\n",
      "/Users/raulguzman/Desktop/AIPM/mercedes/.venv/lib/python3.11/site-packages/sklearn/preprocessing/_encoders.py:246: UserWarning: Found unknown categories in columns [0, 2, 4] during transform. These unknown categories will be encoded as all zeros\n",
      "  warnings.warn(\n",
      "/Users/raulguzman/Desktop/AIPM/mercedes/.venv/lib/python3.11/site-packages/sklearn/preprocessing/_encoders.py:246: UserWarning: Found unknown categories in columns [0, 2, 4] during transform. These unknown categories will be encoded as all zeros\n",
      "  warnings.warn(\n"
     ]
    },
    {
     "name": "stdout",
     "output_type": "stream",
     "text": [
      "[CV] END model__max_depth=10, model__max_features=log2, model__min_samples_split=10, model__n_estimators=500; total time=   0.8s\n",
      "[CV] END model__max_depth=10, model__max_features=log2, model__min_samples_split=10, model__n_estimators=500; total time=   0.9s\n",
      "[CV] END model__max_depth=10, model__max_features=log2, model__min_samples_split=10, model__n_estimators=500; total time=   0.6s\n",
      "[CV] END model__max_depth=10, model__max_features=log2, model__min_samples_split=10, model__n_estimators=500; total time=   0.8s\n",
      "[CV] END model__max_depth=10, model__max_features=sqrt, model__min_samples_split=2, model__n_estimators=200; total time=   0.5s\n",
      "[CV] END model__max_depth=10, model__max_features=sqrt, model__min_samples_split=2, model__n_estimators=200; total time=   0.5s\n"
     ]
    },
    {
     "name": "stderr",
     "output_type": "stream",
     "text": [
      "/Users/raulguzman/Desktop/AIPM/mercedes/.venv/lib/python3.11/site-packages/sklearn/preprocessing/_encoders.py:246: UserWarning: Found unknown categories in columns [1, 2, 4] during transform. These unknown categories will be encoded as all zeros\n",
      "  warnings.warn(\n",
      "/Users/raulguzman/Desktop/AIPM/mercedes/.venv/lib/python3.11/site-packages/sklearn/preprocessing/_encoders.py:246: UserWarning: Found unknown categories in columns [2, 4] during transform. These unknown categories will be encoded as all zeros\n",
      "  warnings.warn(\n",
      "/Users/raulguzman/Desktop/AIPM/mercedes/.venv/lib/python3.11/site-packages/sklearn/preprocessing/_encoders.py:246: UserWarning: Found unknown categories in columns [0, 2, 4] during transform. These unknown categories will be encoded as all zeros\n",
      "  warnings.warn(\n",
      "/Users/raulguzman/Desktop/AIPM/mercedes/.venv/lib/python3.11/site-packages/sklearn/preprocessing/_encoders.py:246: UserWarning: Found unknown categories in columns [0, 4] during transform. These unknown categories will be encoded as all zeros\n",
      "  warnings.warn(\n"
     ]
    },
    {
     "name": "stdout",
     "output_type": "stream",
     "text": [
      "[CV] END model__max_depth=10, model__max_features=sqrt, model__min_samples_split=2, model__n_estimators=200; total time=   0.6s\n",
      "[CV] END model__max_depth=10, model__max_features=sqrt, model__min_samples_split=2, model__n_estimators=200; total time=   0.5s\n",
      "[CV] END model__max_depth=10, model__max_features=sqrt, model__min_samples_split=2, model__n_estimators=200; total time=   0.6s\n",
      "[CV] END model__max_depth=10, model__max_features=sqrt, model__min_samples_split=5, model__n_estimators=100; total time=   0.4s\n",
      "[CV] END model__max_depth=10, model__max_features=sqrt, model__min_samples_split=5, model__n_estimators=100; total time=   0.4s\n"
     ]
    },
    {
     "name": "stderr",
     "output_type": "stream",
     "text": [
      "/Users/raulguzman/Desktop/AIPM/mercedes/.venv/lib/python3.11/site-packages/sklearn/preprocessing/_encoders.py:246: UserWarning: Found unknown categories in columns [0, 2, 4] during transform. These unknown categories will be encoded as all zeros\n",
      "  warnings.warn(\n",
      "/Users/raulguzman/Desktop/AIPM/mercedes/.venv/lib/python3.11/site-packages/sklearn/preprocessing/_encoders.py:246: UserWarning: Found unknown categories in columns [2, 4] during transform. These unknown categories will be encoded as all zeros\n",
      "  warnings.warn(\n",
      "/Users/raulguzman/Desktop/AIPM/mercedes/.venv/lib/python3.11/site-packages/sklearn/preprocessing/_encoders.py:246: UserWarning: Found unknown categories in columns [1, 2, 4] during transform. These unknown categories will be encoded as all zeros\n",
      "  warnings.warn(\n",
      "/Users/raulguzman/Desktop/AIPM/mercedes/.venv/lib/python3.11/site-packages/sklearn/preprocessing/_encoders.py:246: UserWarning: Found unknown categories in columns [0, 4] during transform. These unknown categories will be encoded as all zeros\n",
      "  warnings.warn(\n",
      "/Users/raulguzman/Desktop/AIPM/mercedes/.venv/lib/python3.11/site-packages/sklearn/preprocessing/_encoders.py:246: UserWarning: Found unknown categories in columns [0, 2, 4] during transform. These unknown categories will be encoded as all zeros\n",
      "  warnings.warn(\n"
     ]
    },
    {
     "name": "stdout",
     "output_type": "stream",
     "text": [
      "[CV] END model__max_depth=10, model__max_features=sqrt, model__min_samples_split=5, model__n_estimators=100; total time=   0.4s\n",
      "[CV] END model__max_depth=10, model__max_features=sqrt, model__min_samples_split=5, model__n_estimators=100; total time=   0.4s\n",
      "[CV] END model__max_depth=10, model__max_features=sqrt, model__min_samples_split=5, model__n_estimators=100; total time=   0.5s\n",
      "[CV] END model__max_depth=10, model__max_features=sqrt, model__min_samples_split=5, model__n_estimators=200; total time=   0.4s\n",
      "[CV] END model__max_depth=10, model__max_features=sqrt, model__min_samples_split=2, model__n_estimators=500; total time=   0.9s\n",
      "[CV] END model__max_depth=10, model__max_features=sqrt, model__min_samples_split=5, model__n_estimators=200; total time=   0.6s\n",
      "[CV] END model__max_depth=10, model__max_features=sqrt, model__min_samples_split=5, model__n_estimators=200; total time=   0.6s\n",
      "[CV] END model__max_depth=10, model__max_features=sqrt, model__min_samples_split=2, model__n_estimators=500; total time=   1.1s\n"
     ]
    },
    {
     "name": "stderr",
     "output_type": "stream",
     "text": [
      "/Users/raulguzman/Desktop/AIPM/mercedes/.venv/lib/python3.11/site-packages/sklearn/preprocessing/_encoders.py:246: UserWarning: Found unknown categories in columns [0, 2, 4] during transform. These unknown categories will be encoded as all zeros\n",
      "  warnings.warn(\n",
      "/Users/raulguzman/Desktop/AIPM/mercedes/.venv/lib/python3.11/site-packages/sklearn/preprocessing/_encoders.py:246: UserWarning: Found unknown categories in columns [0, 4] during transform. These unknown categories will be encoded as all zeros\n",
      "  warnings.warn(\n",
      "/Users/raulguzman/Desktop/AIPM/mercedes/.venv/lib/python3.11/site-packages/sklearn/preprocessing/_encoders.py:246: UserWarning: Found unknown categories in columns [0, 2, 4] during transform. These unknown categories will be encoded as all zeros\n",
      "  warnings.warn(\n",
      "/Users/raulguzman/Desktop/AIPM/mercedes/.venv/lib/python3.11/site-packages/sklearn/preprocessing/_encoders.py:246: UserWarning: Found unknown categories in columns [1, 2, 4] during transform. These unknown categories will be encoded as all zeros\n",
      "  warnings.warn(\n",
      "/Users/raulguzman/Desktop/AIPM/mercedes/.venv/lib/python3.11/site-packages/sklearn/preprocessing/_encoders.py:246: UserWarning: Found unknown categories in columns [0, 2, 4] during transform. These unknown categories will be encoded as all zeros\n",
      "  warnings.warn(\n",
      "/Users/raulguzman/Desktop/AIPM/mercedes/.venv/lib/python3.11/site-packages/sklearn/preprocessing/_encoders.py:246: UserWarning: Found unknown categories in columns [0, 4] during transform. These unknown categories will be encoded as all zeros\n",
      "  warnings.warn(\n",
      "/Users/raulguzman/Desktop/AIPM/mercedes/.venv/lib/python3.11/site-packages/sklearn/preprocessing/_encoders.py:246: UserWarning: Found unknown categories in columns [2, 4] during transform. These unknown categories will be encoded as all zeros\n",
      "  warnings.warn(\n",
      "/Users/raulguzman/Desktop/AIPM/mercedes/.venv/lib/python3.11/site-packages/sklearn/preprocessing/_encoders.py:246: UserWarning: Found unknown categories in columns [1, 2, 4] during transform. These unknown categories will be encoded as all zeros\n",
      "  warnings.warn(\n",
      "/Users/raulguzman/Desktop/AIPM/mercedes/.venv/lib/python3.11/site-packages/sklearn/preprocessing/_encoders.py:246: UserWarning: Found unknown categories in columns [2, 4] during transform. These unknown categories will be encoded as all zeros\n",
      "  warnings.warn(\n",
      "/Users/raulguzman/Desktop/AIPM/mercedes/.venv/lib/python3.11/site-packages/sklearn/preprocessing/_encoders.py:246: UserWarning: Found unknown categories in columns [1, 2, 4] during transform. These unknown categories will be encoded as all zeros\n",
      "  warnings.warn(\n",
      "/Users/raulguzman/Desktop/AIPM/mercedes/.venv/lib/python3.11/site-packages/sklearn/preprocessing/_encoders.py:246: UserWarning: Found unknown categories in columns [0, 2, 4] during transform. These unknown categories will be encoded as all zeros\n",
      "  warnings.warn(\n"
     ]
    },
    {
     "name": "stdout",
     "output_type": "stream",
     "text": [
      "[CV] END model__max_depth=10, model__max_features=sqrt, model__min_samples_split=2, model__n_estimators=500; total time=   1.0s\n",
      "[CV] END model__max_depth=10, model__max_features=sqrt, model__min_samples_split=2, model__n_estimators=500; total time=   1.1s\n",
      "[CV] END model__max_depth=10, model__max_features=sqrt, model__min_samples_split=5, model__n_estimators=200; total time=   0.6s\n",
      "[CV] END model__max_depth=10, model__max_features=sqrt, model__min_samples_split=5, model__n_estimators=200; total time=   0.6s\n",
      "[CV] END model__max_depth=10, model__max_features=sqrt, model__min_samples_split=2, model__n_estimators=500; total time=   1.1s\n",
      "[CV] END model__max_depth=10, model__max_features=sqrt, model__min_samples_split=10, model__n_estimators=100; total time=   0.4s\n",
      "[CV] END model__max_depth=10, model__max_features=sqrt, model__min_samples_split=10, model__n_estimators=100; total time=   0.3s\n"
     ]
    },
    {
     "name": "stderr",
     "output_type": "stream",
     "text": [
      "/Users/raulguzman/Desktop/AIPM/mercedes/.venv/lib/python3.11/site-packages/sklearn/preprocessing/_encoders.py:246: UserWarning: Found unknown categories in columns [0, 2, 4] during transform. These unknown categories will be encoded as all zeros\n",
      "  warnings.warn(\n",
      "/Users/raulguzman/Desktop/AIPM/mercedes/.venv/lib/python3.11/site-packages/sklearn/preprocessing/_encoders.py:246: UserWarning: Found unknown categories in columns [2, 4] during transform. These unknown categories will be encoded as all zeros\n",
      "  warnings.warn(\n",
      "/Users/raulguzman/Desktop/AIPM/mercedes/.venv/lib/python3.11/site-packages/sklearn/preprocessing/_encoders.py:246: UserWarning: Found unknown categories in columns [0, 4] during transform. These unknown categories will be encoded as all zeros\n",
      "  warnings.warn(\n"
     ]
    },
    {
     "name": "stdout",
     "output_type": "stream",
     "text": [
      "[CV] END model__max_depth=10, model__max_features=sqrt, model__min_samples_split=10, model__n_estimators=100; total time=   0.3s\n",
      "[CV] END model__max_depth=10, model__max_features=sqrt, model__min_samples_split=10, model__n_estimators=100; total time=   0.4s\n",
      "[CV] END model__max_depth=10, model__max_features=sqrt, model__min_samples_split=10, model__n_estimators=100; total time=   0.3s\n"
     ]
    },
    {
     "name": "stderr",
     "output_type": "stream",
     "text": [
      "/Users/raulguzman/Desktop/AIPM/mercedes/.venv/lib/python3.11/site-packages/sklearn/preprocessing/_encoders.py:246: UserWarning: Found unknown categories in columns [0, 4] during transform. These unknown categories will be encoded as all zeros\n",
      "  warnings.warn(\n",
      "/Users/raulguzman/Desktop/AIPM/mercedes/.venv/lib/python3.11/site-packages/sklearn/preprocessing/_encoders.py:246: UserWarning: Found unknown categories in columns [0, 2, 4] during transform. These unknown categories will be encoded as all zeros\n",
      "  warnings.warn(\n",
      "/Users/raulguzman/Desktop/AIPM/mercedes/.venv/lib/python3.11/site-packages/sklearn/preprocessing/_encoders.py:246: UserWarning: Found unknown categories in columns [1, 2, 4] during transform. These unknown categories will be encoded as all zeros\n",
      "  warnings.warn(\n",
      "/Users/raulguzman/Desktop/AIPM/mercedes/.venv/lib/python3.11/site-packages/sklearn/preprocessing/_encoders.py:246: UserWarning: Found unknown categories in columns [0, 2, 4] during transform. These unknown categories will be encoded as all zeros\n",
      "  warnings.warn(\n",
      "/Users/raulguzman/Desktop/AIPM/mercedes/.venv/lib/python3.11/site-packages/sklearn/preprocessing/_encoders.py:246: UserWarning: Found unknown categories in columns [2, 4] during transform. These unknown categories will be encoded as all zeros\n",
      "  warnings.warn(\n",
      "/Users/raulguzman/Desktop/AIPM/mercedes/.venv/lib/python3.11/site-packages/sklearn/preprocessing/_encoders.py:246: UserWarning: Found unknown categories in columns [0, 2, 4] during transform. These unknown categories will be encoded as all zeros\n",
      "  warnings.warn(\n",
      "/Users/raulguzman/Desktop/AIPM/mercedes/.venv/lib/python3.11/site-packages/sklearn/preprocessing/_encoders.py:246: UserWarning: Found unknown categories in columns [0, 2, 4] during transform. These unknown categories will be encoded as all zeros\n",
      "  warnings.warn(\n",
      "/Users/raulguzman/Desktop/AIPM/mercedes/.venv/lib/python3.11/site-packages/sklearn/preprocessing/_encoders.py:246: UserWarning: Found unknown categories in columns [1, 2, 4] during transform. These unknown categories will be encoded as all zeros\n",
      "  warnings.warn(\n"
     ]
    },
    {
     "name": "stdout",
     "output_type": "stream",
     "text": [
      "[CV] END model__max_depth=10, model__max_features=sqrt, model__min_samples_split=10, model__n_estimators=200; total time=   0.5s\n",
      "[CV] END model__max_depth=10, model__max_features=sqrt, model__min_samples_split=5, model__n_estimators=500; total time=   1.1s\n",
      "[CV] END model__max_depth=10, model__max_features=sqrt, model__min_samples_split=5, model__n_estimators=500; total time=   1.1s\n",
      "[CV] END model__max_depth=10, model__max_features=sqrt, model__min_samples_split=10, model__n_estimators=200; total time=   0.6s\n",
      "[CV] END model__max_depth=10, model__max_features=sqrt, model__min_samples_split=5, model__n_estimators=500; total time=   1.0s\n",
      "[CV] END model__max_depth=10, model__max_features=sqrt, model__min_samples_split=10, model__n_estimators=200; total time=   0.5s\n",
      "[CV] END model__max_depth=10, model__max_features=sqrt, model__min_samples_split=10, model__n_estimators=200; total time=   0.5s\n",
      "[CV] END model__max_depth=10, model__max_features=sqrt, model__min_samples_split=10, model__n_estimators=200; total time=   0.6s\n",
      "[CV] END model__max_depth=10, model__max_features=sqrt, model__min_samples_split=5, model__n_estimators=500; total time=   1.1s\n",
      "[CV] END model__max_depth=10, model__max_features=sqrt, model__min_samples_split=5, model__n_estimators=500; total time=   1.2s\n",
      "[CV] END model__max_depth=20, model__max_features=log2, model__min_samples_split=2, model__n_estimators=100; total time=   0.3s\n",
      "[CV] END model__max_depth=20, model__max_features=log2, model__min_samples_split=2, model__n_estimators=100; total time=   0.4s\n"
     ]
    },
    {
     "name": "stderr",
     "output_type": "stream",
     "text": [
      "/Users/raulguzman/Desktop/AIPM/mercedes/.venv/lib/python3.11/site-packages/sklearn/preprocessing/_encoders.py:246: UserWarning: Found unknown categories in columns [2, 4] during transform. These unknown categories will be encoded as all zeros\n",
      "  warnings.warn(\n",
      "/Users/raulguzman/Desktop/AIPM/mercedes/.venv/lib/python3.11/site-packages/sklearn/preprocessing/_encoders.py:246: UserWarning: Found unknown categories in columns [0, 2, 4] during transform. These unknown categories will be encoded as all zeros\n",
      "  warnings.warn(\n",
      "/Users/raulguzman/Desktop/AIPM/mercedes/.venv/lib/python3.11/site-packages/sklearn/preprocessing/_encoders.py:246: UserWarning: Found unknown categories in columns [0, 4] during transform. These unknown categories will be encoded as all zeros\n",
      "  warnings.warn(\n",
      "/Users/raulguzman/Desktop/AIPM/mercedes/.venv/lib/python3.11/site-packages/sklearn/preprocessing/_encoders.py:246: UserWarning: Found unknown categories in columns [1, 2, 4] during transform. These unknown categories will be encoded as all zeros\n",
      "  warnings.warn(\n",
      "/Users/raulguzman/Desktop/AIPM/mercedes/.venv/lib/python3.11/site-packages/sklearn/preprocessing/_encoders.py:246: UserWarning: Found unknown categories in columns [2, 4] during transform. These unknown categories will be encoded as all zeros\n",
      "  warnings.warn(\n",
      "/Users/raulguzman/Desktop/AIPM/mercedes/.venv/lib/python3.11/site-packages/sklearn/preprocessing/_encoders.py:246: UserWarning: Found unknown categories in columns [0, 2, 4] during transform. These unknown categories will be encoded as all zeros\n",
      "  warnings.warn(\n"
     ]
    },
    {
     "name": "stdout",
     "output_type": "stream",
     "text": [
      "[CV] END model__max_depth=20, model__max_features=log2, model__min_samples_split=2, model__n_estimators=100; total time=   0.4s\n",
      "[CV] END model__max_depth=20, model__max_features=log2, model__min_samples_split=2, model__n_estimators=100; total time=   0.4s\n",
      "[CV] END model__max_depth=20, model__max_features=log2, model__min_samples_split=2, model__n_estimators=100; total time=   0.5s\n"
     ]
    },
    {
     "name": "stderr",
     "output_type": "stream",
     "text": [
      "/Users/raulguzman/Desktop/AIPM/mercedes/.venv/lib/python3.11/site-packages/sklearn/preprocessing/_encoders.py:246: UserWarning: Found unknown categories in columns [0, 2, 4] during transform. These unknown categories will be encoded as all zeros\n",
      "  warnings.warn(\n",
      "/Users/raulguzman/Desktop/AIPM/mercedes/.venv/lib/python3.11/site-packages/sklearn/preprocessing/_encoders.py:246: UserWarning: Found unknown categories in columns [0, 2, 4] during transform. These unknown categories will be encoded as all zeros\n",
      "  warnings.warn(\n",
      "/Users/raulguzman/Desktop/AIPM/mercedes/.venv/lib/python3.11/site-packages/sklearn/preprocessing/_encoders.py:246: UserWarning: Found unknown categories in columns [0, 4] during transform. These unknown categories will be encoded as all zeros\n",
      "  warnings.warn(\n",
      "/Users/raulguzman/Desktop/AIPM/mercedes/.venv/lib/python3.11/site-packages/sklearn/preprocessing/_encoders.py:246: UserWarning: Found unknown categories in columns [0, 2, 4] during transform. These unknown categories will be encoded as all zeros\n",
      "  warnings.warn(\n",
      "/Users/raulguzman/Desktop/AIPM/mercedes/.venv/lib/python3.11/site-packages/sklearn/preprocessing/_encoders.py:246: UserWarning: Found unknown categories in columns [0, 4] during transform. These unknown categories will be encoded as all zeros\n",
      "  warnings.warn(\n",
      "/Users/raulguzman/Desktop/AIPM/mercedes/.venv/lib/python3.11/site-packages/sklearn/preprocessing/_encoders.py:246: UserWarning: Found unknown categories in columns [1, 2, 4] during transform. These unknown categories will be encoded as all zeros\n",
      "  warnings.warn(\n",
      "/Users/raulguzman/Desktop/AIPM/mercedes/.venv/lib/python3.11/site-packages/sklearn/preprocessing/_encoders.py:246: UserWarning: Found unknown categories in columns [0, 2, 4] during transform. These unknown categories will be encoded as all zeros\n",
      "  warnings.warn(\n",
      "/Users/raulguzman/Desktop/AIPM/mercedes/.venv/lib/python3.11/site-packages/sklearn/preprocessing/_encoders.py:246: UserWarning: Found unknown categories in columns [2, 4] during transform. These unknown categories will be encoded as all zeros\n",
      "  warnings.warn(\n",
      "/Users/raulguzman/Desktop/AIPM/mercedes/.venv/lib/python3.11/site-packages/sklearn/preprocessing/_encoders.py:246: UserWarning: Found unknown categories in columns [1, 2, 4] during transform. These unknown categories will be encoded as all zeros\n",
      "  warnings.warn(\n"
     ]
    },
    {
     "name": "stdout",
     "output_type": "stream",
     "text": [
      "[CV] END model__max_depth=20, model__max_features=log2, model__min_samples_split=2, model__n_estimators=200; total time=   0.6s\n",
      "[CV] END model__max_depth=10, model__max_features=sqrt, model__min_samples_split=10, model__n_estimators=500; total time=   1.1s\n",
      "[CV] END model__max_depth=20, model__max_features=log2, model__min_samples_split=2, model__n_estimators=200; total time=   0.7s\n",
      "[CV] END model__max_depth=10, model__max_features=sqrt, model__min_samples_split=10, model__n_estimators=500; total time=   1.2s\n",
      "[CV] END model__max_depth=20, model__max_features=log2, model__min_samples_split=2, model__n_estimators=200; total time=   0.7s\n",
      "[CV] END model__max_depth=20, model__max_features=log2, model__min_samples_split=2, model__n_estimators=200; total time=   0.5s\n",
      "[CV] END model__max_depth=10, model__max_features=sqrt, model__min_samples_split=10, model__n_estimators=500; total time=   1.2s\n"
     ]
    },
    {
     "name": "stderr",
     "output_type": "stream",
     "text": [
      "/Users/raulguzman/Desktop/AIPM/mercedes/.venv/lib/python3.11/site-packages/sklearn/preprocessing/_encoders.py:246: UserWarning: Found unknown categories in columns [2, 4] during transform. These unknown categories will be encoded as all zeros\n",
      "  warnings.warn(\n",
      "/Users/raulguzman/Desktop/AIPM/mercedes/.venv/lib/python3.11/site-packages/sklearn/preprocessing/_encoders.py:246: UserWarning: Found unknown categories in columns [2, 4] during transform. These unknown categories will be encoded as all zeros\n",
      "  warnings.warn(\n",
      "/Users/raulguzman/Desktop/AIPM/mercedes/.venv/lib/python3.11/site-packages/sklearn/preprocessing/_encoders.py:246: UserWarning: Found unknown categories in columns [0, 2, 4] during transform. These unknown categories will be encoded as all zeros\n",
      "  warnings.warn(\n",
      "/Users/raulguzman/Desktop/AIPM/mercedes/.venv/lib/python3.11/site-packages/sklearn/preprocessing/_encoders.py:246: UserWarning: Found unknown categories in columns [0, 4] during transform. These unknown categories will be encoded as all zeros\n",
      "  warnings.warn(\n",
      "/Users/raulguzman/Desktop/AIPM/mercedes/.venv/lib/python3.11/site-packages/sklearn/preprocessing/_encoders.py:246: UserWarning: Found unknown categories in columns [0, 2, 4] during transform. These unknown categories will be encoded as all zeros\n",
      "  warnings.warn(\n"
     ]
    },
    {
     "name": "stdout",
     "output_type": "stream",
     "text": [
      "[CV] END model__max_depth=10, model__max_features=sqrt, model__min_samples_split=10, model__n_estimators=500; total time=   1.0s\n",
      "[CV] END model__max_depth=10, model__max_features=sqrt, model__min_samples_split=10, model__n_estimators=500; total time=   1.1s\n",
      "[CV] END model__max_depth=20, model__max_features=log2, model__min_samples_split=2, model__n_estimators=200; total time=   0.6s\n",
      "[CV] END model__max_depth=20, model__max_features=log2, model__min_samples_split=5, model__n_estimators=100; total time=   0.3s\n",
      "[CV] END model__max_depth=20, model__max_features=log2, model__min_samples_split=5, model__n_estimators=100; total time=   0.3s\n",
      "[CV] END model__max_depth=20, model__max_features=log2, model__min_samples_split=5, model__n_estimators=100; total time=   0.3s\n",
      "[CV] END model__max_depth=20, model__max_features=log2, model__min_samples_split=5, model__n_estimators=100; total time=   0.4s\n",
      "[CV] END model__max_depth=20, model__max_features=log2, model__min_samples_split=5, model__n_estimators=100; total time=   0.4s\n"
     ]
    },
    {
     "name": "stderr",
     "output_type": "stream",
     "text": [
      "/Users/raulguzman/Desktop/AIPM/mercedes/.venv/lib/python3.11/site-packages/sklearn/preprocessing/_encoders.py:246: UserWarning: Found unknown categories in columns [1, 2, 4] during transform. These unknown categories will be encoded as all zeros\n",
      "  warnings.warn(\n",
      "/Users/raulguzman/Desktop/AIPM/mercedes/.venv/lib/python3.11/site-packages/sklearn/preprocessing/_encoders.py:246: UserWarning: Found unknown categories in columns [0, 4] during transform. These unknown categories will be encoded as all zeros\n",
      "  warnings.warn(\n",
      "/Users/raulguzman/Desktop/AIPM/mercedes/.venv/lib/python3.11/site-packages/sklearn/preprocessing/_encoders.py:246: UserWarning: Found unknown categories in columns [0, 2, 4] during transform. These unknown categories will be encoded as all zeros\n",
      "  warnings.warn(\n",
      "/Users/raulguzman/Desktop/AIPM/mercedes/.venv/lib/python3.11/site-packages/sklearn/preprocessing/_encoders.py:246: UserWarning: Found unknown categories in columns [0, 2, 4] during transform. These unknown categories will be encoded as all zeros\n",
      "  warnings.warn(\n"
     ]
    },
    {
     "name": "stdout",
     "output_type": "stream",
     "text": [
      "[CV] END model__max_depth=20, model__max_features=log2, model__min_samples_split=5, model__n_estimators=200; total time=   0.6s\n",
      "[CV] END model__max_depth=20, model__max_features=log2, model__min_samples_split=5, model__n_estimators=200; total time=   0.5s\n",
      "[CV] END model__max_depth=20, model__max_features=log2, model__min_samples_split=5, model__n_estimators=200; total time=   0.6s\n"
     ]
    },
    {
     "name": "stderr",
     "output_type": "stream",
     "text": [
      "/Users/raulguzman/Desktop/AIPM/mercedes/.venv/lib/python3.11/site-packages/sklearn/preprocessing/_encoders.py:246: UserWarning: Found unknown categories in columns [1, 2, 4] during transform. These unknown categories will be encoded as all zeros\n",
      "  warnings.warn(\n",
      "/Users/raulguzman/Desktop/AIPM/mercedes/.venv/lib/python3.11/site-packages/sklearn/preprocessing/_encoders.py:246: UserWarning: Found unknown categories in columns [0, 4] during transform. These unknown categories will be encoded as all zeros\n",
      "  warnings.warn(\n",
      "/Users/raulguzman/Desktop/AIPM/mercedes/.venv/lib/python3.11/site-packages/sklearn/preprocessing/_encoders.py:246: UserWarning: Found unknown categories in columns [2, 4] during transform. These unknown categories will be encoded as all zeros\n",
      "  warnings.warn(\n",
      "/Users/raulguzman/Desktop/AIPM/mercedes/.venv/lib/python3.11/site-packages/sklearn/preprocessing/_encoders.py:246: UserWarning: Found unknown categories in columns [1, 2, 4] during transform. These unknown categories will be encoded as all zeros\n",
      "  warnings.warn(\n",
      "/Users/raulguzman/Desktop/AIPM/mercedes/.venv/lib/python3.11/site-packages/sklearn/preprocessing/_encoders.py:246: UserWarning: Found unknown categories in columns [0, 2, 4] during transform. These unknown categories will be encoded as all zeros\n",
      "  warnings.warn(\n",
      "/Users/raulguzman/Desktop/AIPM/mercedes/.venv/lib/python3.11/site-packages/sklearn/preprocessing/_encoders.py:246: UserWarning: Found unknown categories in columns [0, 2, 4] during transform. These unknown categories will be encoded as all zeros\n",
      "  warnings.warn(\n",
      "/Users/raulguzman/Desktop/AIPM/mercedes/.venv/lib/python3.11/site-packages/sklearn/preprocessing/_encoders.py:246: UserWarning: Found unknown categories in columns [0, 4] during transform. These unknown categories will be encoded as all zeros\n",
      "  warnings.warn(\n",
      "/Users/raulguzman/Desktop/AIPM/mercedes/.venv/lib/python3.11/site-packages/sklearn/preprocessing/_encoders.py:246: UserWarning: Found unknown categories in columns [2, 4] during transform. These unknown categories will be encoded as all zeros\n",
      "  warnings.warn(\n"
     ]
    },
    {
     "name": "stdout",
     "output_type": "stream",
     "text": [
      "[CV] END model__max_depth=20, model__max_features=log2, model__min_samples_split=5, model__n_estimators=200; total time=   0.7s\n",
      "[CV] END model__max_depth=20, model__max_features=log2, model__min_samples_split=5, model__n_estimators=200; total time=   0.6s\n",
      "[CV] END model__max_depth=20, model__max_features=log2, model__min_samples_split=2, model__n_estimators=500; total time=   1.4s\n",
      "[CV] END model__max_depth=20, model__max_features=log2, model__min_samples_split=10, model__n_estimators=100; total time=   0.3s\n",
      "[CV] END model__max_depth=20, model__max_features=log2, model__min_samples_split=2, model__n_estimators=500; total time=   1.3s\n",
      "[CV] END model__max_depth=20, model__max_features=log2, model__min_samples_split=2, model__n_estimators=500; total time=   1.3s\n",
      "[CV] END model__max_depth=20, model__max_features=log2, model__min_samples_split=2, model__n_estimators=500; total time=   1.4s\n",
      "[CV] END model__max_depth=20, model__max_features=log2, model__min_samples_split=2, model__n_estimators=500; total time=   1.2s\n",
      "[CV] END model__max_depth=20, model__max_features=log2, model__min_samples_split=10, model__n_estimators=100; total time=   0.4s\n",
      "[CV] END model__max_depth=20, model__max_features=log2, model__min_samples_split=10, model__n_estimators=100; total time=   0.3s\n",
      "[CV] END model__max_depth=20, model__max_features=log2, model__min_samples_split=10, model__n_estimators=100; total time=   0.4s\n"
     ]
    },
    {
     "name": "stderr",
     "output_type": "stream",
     "text": [
      "/Users/raulguzman/Desktop/AIPM/mercedes/.venv/lib/python3.11/site-packages/sklearn/preprocessing/_encoders.py:246: UserWarning: Found unknown categories in columns [0, 2, 4] during transform. These unknown categories will be encoded as all zeros\n",
      "  warnings.warn(\n",
      "/Users/raulguzman/Desktop/AIPM/mercedes/.venv/lib/python3.11/site-packages/sklearn/preprocessing/_encoders.py:246: UserWarning: Found unknown categories in columns [1, 2, 4] during transform. These unknown categories will be encoded as all zeros\n",
      "  warnings.warn(\n",
      "/Users/raulguzman/Desktop/AIPM/mercedes/.venv/lib/python3.11/site-packages/sklearn/preprocessing/_encoders.py:246: UserWarning: Found unknown categories in columns [0, 2, 4] during transform. These unknown categories will be encoded as all zeros\n",
      "  warnings.warn(\n",
      "/Users/raulguzman/Desktop/AIPM/mercedes/.venv/lib/python3.11/site-packages/sklearn/preprocessing/_encoders.py:246: UserWarning: Found unknown categories in columns [2, 4] during transform. These unknown categories will be encoded as all zeros\n",
      "  warnings.warn(\n"
     ]
    },
    {
     "name": "stdout",
     "output_type": "stream",
     "text": [
      "[CV] END model__max_depth=20, model__max_features=log2, model__min_samples_split=10, model__n_estimators=100; total time=   0.4s\n",
      "[CV] END model__max_depth=20, model__max_features=log2, model__min_samples_split=10, model__n_estimators=200; total time=   0.5s\n",
      "[CV] END model__max_depth=20, model__max_features=log2, model__min_samples_split=10, model__n_estimators=200; total time=   0.5s\n",
      "[CV] END model__max_depth=20, model__max_features=log2, model__min_samples_split=5, model__n_estimators=500; total time=   1.2s\n",
      "[CV] END model__max_depth=20, model__max_features=log2, model__min_samples_split=10, model__n_estimators=200; total time=   0.5s\n"
     ]
    },
    {
     "name": "stderr",
     "output_type": "stream",
     "text": [
      "/Users/raulguzman/Desktop/AIPM/mercedes/.venv/lib/python3.11/site-packages/sklearn/preprocessing/_encoders.py:246: UserWarning: Found unknown categories in columns [0, 4] during transform. These unknown categories will be encoded as all zeros\n",
      "  warnings.warn(\n",
      "/Users/raulguzman/Desktop/AIPM/mercedes/.venv/lib/python3.11/site-packages/sklearn/preprocessing/_encoders.py:246: UserWarning: Found unknown categories in columns [0, 2, 4] during transform. These unknown categories will be encoded as all zeros\n",
      "  warnings.warn(\n",
      "/Users/raulguzman/Desktop/AIPM/mercedes/.venv/lib/python3.11/site-packages/sklearn/preprocessing/_encoders.py:246: UserWarning: Found unknown categories in columns [0, 2, 4] during transform. These unknown categories will be encoded as all zeros\n",
      "  warnings.warn(\n",
      "/Users/raulguzman/Desktop/AIPM/mercedes/.venv/lib/python3.11/site-packages/sklearn/preprocessing/_encoders.py:246: UserWarning: Found unknown categories in columns [0, 2, 4] during transform. These unknown categories will be encoded as all zeros\n",
      "  warnings.warn(\n",
      "/Users/raulguzman/Desktop/AIPM/mercedes/.venv/lib/python3.11/site-packages/sklearn/preprocessing/_encoders.py:246: UserWarning: Found unknown categories in columns [0, 2, 4] during transform. These unknown categories will be encoded as all zeros\n",
      "  warnings.warn(\n",
      "/Users/raulguzman/Desktop/AIPM/mercedes/.venv/lib/python3.11/site-packages/sklearn/preprocessing/_encoders.py:246: UserWarning: Found unknown categories in columns [1, 2, 4] during transform. These unknown categories will be encoded as all zeros\n",
      "  warnings.warn(\n",
      "/Users/raulguzman/Desktop/AIPM/mercedes/.venv/lib/python3.11/site-packages/sklearn/preprocessing/_encoders.py:246: UserWarning: Found unknown categories in columns [1, 2, 4] during transform. These unknown categories will be encoded as all zeros\n",
      "  warnings.warn(\n",
      "/Users/raulguzman/Desktop/AIPM/mercedes/.venv/lib/python3.11/site-packages/sklearn/preprocessing/_encoders.py:246: UserWarning: Found unknown categories in columns [0, 4] during transform. These unknown categories will be encoded as all zeros\n",
      "  warnings.warn(\n",
      "/Users/raulguzman/Desktop/AIPM/mercedes/.venv/lib/python3.11/site-packages/sklearn/preprocessing/_encoders.py:246: UserWarning: Found unknown categories in columns [2, 4] during transform. These unknown categories will be encoded as all zeros\n",
      "  warnings.warn(\n"
     ]
    },
    {
     "name": "stdout",
     "output_type": "stream",
     "text": [
      "[CV] END model__max_depth=20, model__max_features=log2, model__min_samples_split=5, model__n_estimators=500; total time=   1.2s\n",
      "[CV] END model__max_depth=20, model__max_features=log2, model__min_samples_split=5, model__n_estimators=500; total time=   1.2s\n",
      "[CV] END model__max_depth=20, model__max_features=log2, model__min_samples_split=5, model__n_estimators=500; total time=   1.2s\n",
      "[CV] END model__max_depth=20, model__max_features=log2, model__min_samples_split=10, model__n_estimators=200; total time=   0.7s\n",
      "[CV] END model__max_depth=20, model__max_features=log2, model__min_samples_split=10, model__n_estimators=200; total time=   0.6s\n"
     ]
    },
    {
     "name": "stderr",
     "output_type": "stream",
     "text": [
      "/Users/raulguzman/Desktop/AIPM/mercedes/.venv/lib/python3.11/site-packages/sklearn/preprocessing/_encoders.py:246: UserWarning: Found unknown categories in columns [2, 4] during transform. These unknown categories will be encoded as all zeros\n",
      "  warnings.warn(\n",
      "/Users/raulguzman/Desktop/AIPM/mercedes/.venv/lib/python3.11/site-packages/sklearn/preprocessing/_encoders.py:246: UserWarning: Found unknown categories in columns [0, 2, 4] during transform. These unknown categories will be encoded as all zeros\n",
      "  warnings.warn(\n"
     ]
    },
    {
     "name": "stdout",
     "output_type": "stream",
     "text": [
      "[CV] END model__max_depth=20, model__max_features=log2, model__min_samples_split=5, model__n_estimators=500; total time=   1.1s\n",
      "[CV] END model__max_depth=20, model__max_features=sqrt, model__min_samples_split=2, model__n_estimators=100; total time=   0.4s\n"
     ]
    },
    {
     "name": "stderr",
     "output_type": "stream",
     "text": [
      "/Users/raulguzman/Desktop/AIPM/mercedes/.venv/lib/python3.11/site-packages/sklearn/preprocessing/_encoders.py:246: UserWarning: Found unknown categories in columns [0, 4] during transform. These unknown categories will be encoded as all zeros\n",
      "  warnings.warn(\n",
      "/Users/raulguzman/Desktop/AIPM/mercedes/.venv/lib/python3.11/site-packages/sklearn/preprocessing/_encoders.py:246: UserWarning: Found unknown categories in columns [1, 2, 4] during transform. These unknown categories will be encoded as all zeros\n",
      "  warnings.warn(\n"
     ]
    },
    {
     "name": "stdout",
     "output_type": "stream",
     "text": [
      "[CV] END model__max_depth=20, model__max_features=sqrt, model__min_samples_split=2, model__n_estimators=100; total time=   0.5s\n",
      "[CV] END model__max_depth=20, model__max_features=sqrt, model__min_samples_split=2, model__n_estimators=100; total time=   0.6s\n",
      "[CV] END model__max_depth=20, model__max_features=sqrt, model__min_samples_split=2, model__n_estimators=100; total time=   0.6s\n"
     ]
    },
    {
     "name": "stderr",
     "output_type": "stream",
     "text": [
      "/Users/raulguzman/Desktop/AIPM/mercedes/.venv/lib/python3.11/site-packages/sklearn/preprocessing/_encoders.py:246: UserWarning: Found unknown categories in columns [0, 4] during transform. These unknown categories will be encoded as all zeros\n",
      "  warnings.warn(\n",
      "/Users/raulguzman/Desktop/AIPM/mercedes/.venv/lib/python3.11/site-packages/sklearn/preprocessing/_encoders.py:246: UserWarning: Found unknown categories in columns [2, 4] during transform. These unknown categories will be encoded as all zeros\n",
      "  warnings.warn(\n",
      "/Users/raulguzman/Desktop/AIPM/mercedes/.venv/lib/python3.11/site-packages/sklearn/preprocessing/_encoders.py:246: UserWarning: Found unknown categories in columns [0, 2, 4] during transform. These unknown categories will be encoded as all zeros\n",
      "  warnings.warn(\n",
      "/Users/raulguzman/Desktop/AIPM/mercedes/.venv/lib/python3.11/site-packages/sklearn/preprocessing/_encoders.py:246: UserWarning: Found unknown categories in columns [0, 2, 4] during transform. These unknown categories will be encoded as all zeros\n",
      "  warnings.warn(\n",
      "/Users/raulguzman/Desktop/AIPM/mercedes/.venv/lib/python3.11/site-packages/sklearn/preprocessing/_encoders.py:246: UserWarning: Found unknown categories in columns [1, 2, 4] during transform. These unknown categories will be encoded as all zeros\n",
      "  warnings.warn(\n",
      "/Users/raulguzman/Desktop/AIPM/mercedes/.venv/lib/python3.11/site-packages/sklearn/preprocessing/_encoders.py:246: UserWarning: Found unknown categories in columns [0, 2, 4] during transform. These unknown categories will be encoded as all zeros\n",
      "  warnings.warn(\n",
      "/Users/raulguzman/Desktop/AIPM/mercedes/.venv/lib/python3.11/site-packages/sklearn/preprocessing/_encoders.py:246: UserWarning: Found unknown categories in columns [0, 2, 4] during transform. These unknown categories will be encoded as all zeros\n",
      "  warnings.warn(\n"
     ]
    },
    {
     "name": "stdout",
     "output_type": "stream",
     "text": [
      "[CV] END model__max_depth=20, model__max_features=log2, model__min_samples_split=10, model__n_estimators=500; total time=   1.0s\n",
      "[CV] END model__max_depth=20, model__max_features=sqrt, model__min_samples_split=2, model__n_estimators=100; total time=   0.7s\n",
      "[CV] END model__max_depth=20, model__max_features=sqrt, model__min_samples_split=2, model__n_estimators=200; total time=   0.6s\n",
      "[CV] END model__max_depth=20, model__max_features=log2, model__min_samples_split=10, model__n_estimators=500; total time=   1.1s\n",
      "[CV] END model__max_depth=20, model__max_features=log2, model__min_samples_split=10, model__n_estimators=500; total time=   1.1s\n",
      "[CV] END model__max_depth=20, model__max_features=log2, model__min_samples_split=10, model__n_estimators=500; total time=   1.0s\n"
     ]
    },
    {
     "name": "stderr",
     "output_type": "stream",
     "text": [
      "/Users/raulguzman/Desktop/AIPM/mercedes/.venv/lib/python3.11/site-packages/sklearn/preprocessing/_encoders.py:246: UserWarning: Found unknown categories in columns [0, 4] during transform. These unknown categories will be encoded as all zeros\n",
      "  warnings.warn(\n",
      "/Users/raulguzman/Desktop/AIPM/mercedes/.venv/lib/python3.11/site-packages/sklearn/preprocessing/_encoders.py:246: UserWarning: Found unknown categories in columns [0, 4] during transform. These unknown categories will be encoded as all zeros\n",
      "  warnings.warn(\n",
      "/Users/raulguzman/Desktop/AIPM/mercedes/.venv/lib/python3.11/site-packages/sklearn/preprocessing/_encoders.py:246: UserWarning: Found unknown categories in columns [2, 4] during transform. These unknown categories will be encoded as all zeros\n",
      "  warnings.warn(\n",
      "/Users/raulguzman/Desktop/AIPM/mercedes/.venv/lib/python3.11/site-packages/sklearn/preprocessing/_encoders.py:246: UserWarning: Found unknown categories in columns [0, 2, 4] during transform. These unknown categories will be encoded as all zeros\n",
      "  warnings.warn(\n",
      "/Users/raulguzman/Desktop/AIPM/mercedes/.venv/lib/python3.11/site-packages/sklearn/preprocessing/_encoders.py:246: UserWarning: Found unknown categories in columns [1, 2, 4] during transform. These unknown categories will be encoded as all zeros\n",
      "  warnings.warn(\n",
      "/Users/raulguzman/Desktop/AIPM/mercedes/.venv/lib/python3.11/site-packages/sklearn/preprocessing/_encoders.py:246: UserWarning: Found unknown categories in columns [1, 2, 4] during transform. These unknown categories will be encoded as all zeros\n",
      "  warnings.warn(\n",
      "/Users/raulguzman/Desktop/AIPM/mercedes/.venv/lib/python3.11/site-packages/sklearn/preprocessing/_encoders.py:246: UserWarning: Found unknown categories in columns [0, 2, 4] during transform. These unknown categories will be encoded as all zeros\n",
      "  warnings.warn(\n"
     ]
    },
    {
     "name": "stdout",
     "output_type": "stream",
     "text": [
      "[CV] END model__max_depth=20, model__max_features=sqrt, model__min_samples_split=2, model__n_estimators=200; total time=   0.8s\n",
      "[CV] END model__max_depth=20, model__max_features=sqrt, model__min_samples_split=5, model__n_estimators=100; total time=   0.3s\n",
      "[CV] END model__max_depth=20, model__max_features=sqrt, model__min_samples_split=2, model__n_estimators=200; total time=   0.9s\n",
      "[CV] END model__max_depth=20, model__max_features=sqrt, model__min_samples_split=5, model__n_estimators=100; total time=   0.3s\n",
      "[CV] END model__max_depth=20, model__max_features=sqrt, model__min_samples_split=2, model__n_estimators=200; total time=   0.9s\n",
      "[CV] END model__max_depth=20, model__max_features=log2, model__min_samples_split=10, model__n_estimators=500; total time=   1.2s\n"
     ]
    },
    {
     "name": "stderr",
     "output_type": "stream",
     "text": [
      "/Users/raulguzman/Desktop/AIPM/mercedes/.venv/lib/python3.11/site-packages/sklearn/preprocessing/_encoders.py:246: UserWarning: Found unknown categories in columns [0, 2, 4] during transform. These unknown categories will be encoded as all zeros\n",
      "  warnings.warn(\n",
      "/Users/raulguzman/Desktop/AIPM/mercedes/.venv/lib/python3.11/site-packages/sklearn/preprocessing/_encoders.py:246: UserWarning: Found unknown categories in columns [2, 4] during transform. These unknown categories will be encoded as all zeros\n",
      "  warnings.warn(\n"
     ]
    },
    {
     "name": "stdout",
     "output_type": "stream",
     "text": [
      "[CV] END model__max_depth=20, model__max_features=sqrt, model__min_samples_split=5, model__n_estimators=100; total time=   0.3s\n",
      "[CV] END model__max_depth=20, model__max_features=sqrt, model__min_samples_split=2, model__n_estimators=200; total time=   0.8s\n",
      "[CV] END model__max_depth=20, model__max_features=sqrt, model__min_samples_split=5, model__n_estimators=100; total time=   0.5s\n"
     ]
    },
    {
     "name": "stderr",
     "output_type": "stream",
     "text": [
      "/Users/raulguzman/Desktop/AIPM/mercedes/.venv/lib/python3.11/site-packages/sklearn/preprocessing/_encoders.py:246: UserWarning: Found unknown categories in columns [2, 4] during transform. These unknown categories will be encoded as all zeros\n",
      "  warnings.warn(\n",
      "/Users/raulguzman/Desktop/AIPM/mercedes/.venv/lib/python3.11/site-packages/sklearn/preprocessing/_encoders.py:246: UserWarning: Found unknown categories in columns [0, 4] during transform. These unknown categories will be encoded as all zeros\n",
      "  warnings.warn(\n"
     ]
    },
    {
     "name": "stdout",
     "output_type": "stream",
     "text": [
      "[CV] END model__max_depth=20, model__max_features=sqrt, model__min_samples_split=5, model__n_estimators=100; total time=   0.6s\n",
      "[CV] END model__max_depth=20, model__max_features=sqrt, model__min_samples_split=5, model__n_estimators=200; total time=   0.7s\n"
     ]
    },
    {
     "name": "stderr",
     "output_type": "stream",
     "text": [
      "/Users/raulguzman/Desktop/AIPM/mercedes/.venv/lib/python3.11/site-packages/sklearn/preprocessing/_encoders.py:246: UserWarning: Found unknown categories in columns [1, 2, 4] during transform. These unknown categories will be encoded as all zeros\n",
      "  warnings.warn(\n",
      "/Users/raulguzman/Desktop/AIPM/mercedes/.venv/lib/python3.11/site-packages/sklearn/preprocessing/_encoders.py:246: UserWarning: Found unknown categories in columns [0, 2, 4] during transform. These unknown categories will be encoded as all zeros\n",
      "  warnings.warn(\n",
      "/Users/raulguzman/Desktop/AIPM/mercedes/.venv/lib/python3.11/site-packages/sklearn/preprocessing/_encoders.py:246: UserWarning: Found unknown categories in columns [2, 4] during transform. These unknown categories will be encoded as all zeros\n",
      "  warnings.warn(\n"
     ]
    },
    {
     "name": "stdout",
     "output_type": "stream",
     "text": [
      "[CV] END model__max_depth=20, model__max_features=sqrt, model__min_samples_split=5, model__n_estimators=200; total time=   0.8s\n",
      "[CV] END model__max_depth=20, model__max_features=sqrt, model__min_samples_split=5, model__n_estimators=200; total time=   0.8s\n",
      "[CV] END model__max_depth=20, model__max_features=sqrt, model__min_samples_split=5, model__n_estimators=200; total time=   0.8s\n"
     ]
    },
    {
     "name": "stderr",
     "output_type": "stream",
     "text": [
      "/Users/raulguzman/Desktop/AIPM/mercedes/.venv/lib/python3.11/site-packages/sklearn/preprocessing/_encoders.py:246: UserWarning: Found unknown categories in columns [0, 2, 4] during transform. These unknown categories will be encoded as all zeros\n",
      "  warnings.warn(\n",
      "/Users/raulguzman/Desktop/AIPM/mercedes/.venv/lib/python3.11/site-packages/sklearn/preprocessing/_encoders.py:246: UserWarning: Found unknown categories in columns [0, 4] during transform. These unknown categories will be encoded as all zeros\n",
      "  warnings.warn(\n",
      "/Users/raulguzman/Desktop/AIPM/mercedes/.venv/lib/python3.11/site-packages/sklearn/preprocessing/_encoders.py:246: UserWarning: Found unknown categories in columns [2, 4] during transform. These unknown categories will be encoded as all zeros\n",
      "  warnings.warn(\n"
     ]
    },
    {
     "name": "stdout",
     "output_type": "stream",
     "text": [
      "[CV] END model__max_depth=20, model__max_features=sqrt, model__min_samples_split=5, model__n_estimators=200; total time=   1.0s\n",
      "[CV] END model__max_depth=20, model__max_features=sqrt, model__min_samples_split=2, model__n_estimators=500; total time=   1.7s\n"
     ]
    },
    {
     "name": "stderr",
     "output_type": "stream",
     "text": [
      "/Users/raulguzman/Desktop/AIPM/mercedes/.venv/lib/python3.11/site-packages/sklearn/preprocessing/_encoders.py:246: UserWarning: Found unknown categories in columns [0, 4] during transform. These unknown categories will be encoded as all zeros\n",
      "  warnings.warn(\n",
      "/Users/raulguzman/Desktop/AIPM/mercedes/.venv/lib/python3.11/site-packages/sklearn/preprocessing/_encoders.py:246: UserWarning: Found unknown categories in columns [0, 2, 4] during transform. These unknown categories will be encoded as all zeros\n",
      "  warnings.warn(\n",
      "/Users/raulguzman/Desktop/AIPM/mercedes/.venv/lib/python3.11/site-packages/sklearn/preprocessing/_encoders.py:246: UserWarning: Found unknown categories in columns [0, 2, 4] during transform. These unknown categories will be encoded as all zeros\n",
      "  warnings.warn(\n"
     ]
    },
    {
     "name": "stdout",
     "output_type": "stream",
     "text": [
      "[CV] END model__max_depth=20, model__max_features=sqrt, model__min_samples_split=10, model__n_estimators=100; total time=   0.5s\n",
      "[CV] END model__max_depth=20, model__max_features=sqrt, model__min_samples_split=10, model__n_estimators=100; total time=   0.5s\n",
      "[CV] END model__max_depth=20, model__max_features=sqrt, model__min_samples_split=2, model__n_estimators=500; total time=   1.7s\n",
      "[CV] END model__max_depth=20, model__max_features=sqrt, model__min_samples_split=10, model__n_estimators=100; total time=   0.5s\n"
     ]
    },
    {
     "name": "stderr",
     "output_type": "stream",
     "text": [
      "/Users/raulguzman/Desktop/AIPM/mercedes/.venv/lib/python3.11/site-packages/sklearn/preprocessing/_encoders.py:246: UserWarning: Found unknown categories in columns [1, 2, 4] during transform. These unknown categories will be encoded as all zeros\n",
      "  warnings.warn(\n",
      "/Users/raulguzman/Desktop/AIPM/mercedes/.venv/lib/python3.11/site-packages/sklearn/preprocessing/_encoders.py:246: UserWarning: Found unknown categories in columns [0, 2, 4] during transform. These unknown categories will be encoded as all zeros\n",
      "  warnings.warn(\n",
      "/Users/raulguzman/Desktop/AIPM/mercedes/.venv/lib/python3.11/site-packages/sklearn/preprocessing/_encoders.py:246: UserWarning: Found unknown categories in columns [0, 2, 4] during transform. These unknown categories will be encoded as all zeros\n",
      "  warnings.warn(\n",
      "/Users/raulguzman/Desktop/AIPM/mercedes/.venv/lib/python3.11/site-packages/sklearn/preprocessing/_encoders.py:246: UserWarning: Found unknown categories in columns [1, 2, 4] during transform. These unknown categories will be encoded as all zeros\n",
      "  warnings.warn(\n",
      "/Users/raulguzman/Desktop/AIPM/mercedes/.venv/lib/python3.11/site-packages/sklearn/preprocessing/_encoders.py:246: UserWarning: Found unknown categories in columns [2, 4] during transform. These unknown categories will be encoded as all zeros\n",
      "  warnings.warn(\n"
     ]
    },
    {
     "name": "stdout",
     "output_type": "stream",
     "text": [
      "[CV] END model__max_depth=20, model__max_features=sqrt, model__min_samples_split=2, model__n_estimators=500; total time=   1.9s\n",
      "[CV] END model__max_depth=20, model__max_features=sqrt, model__min_samples_split=10, model__n_estimators=100; total time=   0.5s\n",
      "[CV] END model__max_depth=20, model__max_features=sqrt, model__min_samples_split=10, model__n_estimators=100; total time=   0.6s\n",
      "[CV] END model__max_depth=20, model__max_features=sqrt, model__min_samples_split=2, model__n_estimators=500; total time=   2.1s\n",
      "[CV] END model__max_depth=20, model__max_features=sqrt, model__min_samples_split=2, model__n_estimators=500; total time=   2.1s\n"
     ]
    },
    {
     "name": "stderr",
     "output_type": "stream",
     "text": [
      "/Users/raulguzman/Desktop/AIPM/mercedes/.venv/lib/python3.11/site-packages/sklearn/preprocessing/_encoders.py:246: UserWarning: Found unknown categories in columns [0, 4] during transform. These unknown categories will be encoded as all zeros\n",
      "  warnings.warn(\n",
      "/Users/raulguzman/Desktop/AIPM/mercedes/.venv/lib/python3.11/site-packages/sklearn/preprocessing/_encoders.py:246: UserWarning: Found unknown categories in columns [0, 2, 4] during transform. These unknown categories will be encoded as all zeros\n",
      "  warnings.warn(\n"
     ]
    },
    {
     "name": "stdout",
     "output_type": "stream",
     "text": [
      "[CV] END model__max_depth=20, model__max_features=sqrt, model__min_samples_split=5, model__n_estimators=500; total time=   1.7s\n",
      "[CV] END model__max_depth=20, model__max_features=sqrt, model__min_samples_split=5, model__n_estimators=500; total time=   1.8s\n"
     ]
    },
    {
     "name": "stderr",
     "output_type": "stream",
     "text": [
      "/Users/raulguzman/Desktop/AIPM/mercedes/.venv/lib/python3.11/site-packages/sklearn/preprocessing/_encoders.py:246: UserWarning: Found unknown categories in columns [0, 2, 4] during transform. These unknown categories will be encoded as all zeros\n",
      "  warnings.warn(\n",
      "/Users/raulguzman/Desktop/AIPM/mercedes/.venv/lib/python3.11/site-packages/sklearn/preprocessing/_encoders.py:246: UserWarning: Found unknown categories in columns [2, 4] during transform. These unknown categories will be encoded as all zeros\n",
      "  warnings.warn(\n",
      "/Users/raulguzman/Desktop/AIPM/mercedes/.venv/lib/python3.11/site-packages/sklearn/preprocessing/_encoders.py:246: UserWarning: Found unknown categories in columns [1, 2, 4] during transform. These unknown categories will be encoded as all zeros\n",
      "  warnings.warn(\n",
      "/Users/raulguzman/Desktop/AIPM/mercedes/.venv/lib/python3.11/site-packages/sklearn/preprocessing/_encoders.py:246: UserWarning: Found unknown categories in columns [0, 2, 4] during transform. These unknown categories will be encoded as all zeros\n",
      "  warnings.warn(\n",
      "/Users/raulguzman/Desktop/AIPM/mercedes/.venv/lib/python3.11/site-packages/sklearn/preprocessing/_encoders.py:246: UserWarning: Found unknown categories in columns [0, 2, 4] during transform. These unknown categories will be encoded as all zeros\n",
      "  warnings.warn(\n",
      "/Users/raulguzman/Desktop/AIPM/mercedes/.venv/lib/python3.11/site-packages/sklearn/preprocessing/_encoders.py:246: UserWarning: Found unknown categories in columns [0, 4] during transform. These unknown categories will be encoded as all zeros\n",
      "  warnings.warn(\n",
      "/Users/raulguzman/Desktop/AIPM/mercedes/.venv/lib/python3.11/site-packages/sklearn/preprocessing/_encoders.py:246: UserWarning: Found unknown categories in columns [2, 4] during transform. These unknown categories will be encoded as all zeros\n",
      "  warnings.warn(\n"
     ]
    },
    {
     "name": "stdout",
     "output_type": "stream",
     "text": [
      "[CV] END model__max_depth=20, model__max_features=sqrt, model__min_samples_split=10, model__n_estimators=200; total time=   0.7s\n",
      "[CV] END model__max_depth=20, model__max_features=sqrt, model__min_samples_split=10, model__n_estimators=200; total time=   0.7s\n",
      "[CV] END model__max_depth=20, model__max_features=sqrt, model__min_samples_split=5, model__n_estimators=500; total time=   1.9s\n",
      "[CV] END model__max_depth=20, model__max_features=sqrt, model__min_samples_split=10, model__n_estimators=200; total time=   0.6s\n",
      "[CV] END model__max_depth=20, model__max_features=sqrt, model__min_samples_split=10, model__n_estimators=200; total time=   0.7s\n",
      "[CV] END model__max_depth=20, model__max_features=sqrt, model__min_samples_split=5, model__n_estimators=500; total time=   1.4s\n",
      "[CV] END model__max_depth=20, model__max_features=sqrt, model__min_samples_split=10, model__n_estimators=200; total time=   0.6s\n"
     ]
    },
    {
     "name": "stderr",
     "output_type": "stream",
     "text": [
      "/Users/raulguzman/Desktop/AIPM/mercedes/.venv/lib/python3.11/site-packages/sklearn/preprocessing/_encoders.py:246: UserWarning: Found unknown categories in columns [1, 2, 4] during transform. These unknown categories will be encoded as all zeros\n",
      "  warnings.warn(\n"
     ]
    },
    {
     "name": "stdout",
     "output_type": "stream",
     "text": [
      "[CV] END model__max_depth=20, model__max_features=sqrt, model__min_samples_split=5, model__n_estimators=500; total time=   1.8s\n"
     ]
    },
    {
     "name": "stderr",
     "output_type": "stream",
     "text": [
      "/Users/raulguzman/Desktop/AIPM/mercedes/.venv/lib/python3.11/site-packages/sklearn/preprocessing/_encoders.py:246: UserWarning: Found unknown categories in columns [0, 2, 4] during transform. These unknown categories will be encoded as all zeros\n",
      "  warnings.warn(\n",
      "/Users/raulguzman/Desktop/AIPM/mercedes/.venv/lib/python3.11/site-packages/sklearn/preprocessing/_encoders.py:246: UserWarning: Found unknown categories in columns [0, 2, 4] during transform. These unknown categories will be encoded as all zeros\n",
      "  warnings.warn(\n",
      "/Users/raulguzman/Desktop/AIPM/mercedes/.venv/lib/python3.11/site-packages/sklearn/preprocessing/_encoders.py:246: UserWarning: Found unknown categories in columns [0, 4] during transform. These unknown categories will be encoded as all zeros\n",
      "  warnings.warn(\n",
      "/Users/raulguzman/Desktop/AIPM/mercedes/.venv/lib/python3.11/site-packages/sklearn/preprocessing/_encoders.py:246: UserWarning: Found unknown categories in columns [1, 2, 4] during transform. These unknown categories will be encoded as all zeros\n",
      "  warnings.warn(\n",
      "/Users/raulguzman/Desktop/AIPM/mercedes/.venv/lib/python3.11/site-packages/sklearn/preprocessing/_encoders.py:246: UserWarning: Found unknown categories in columns [2, 4] during transform. These unknown categories will be encoded as all zeros\n",
      "  warnings.warn(\n"
     ]
    },
    {
     "name": "stdout",
     "output_type": "stream",
     "text": [
      "[CV] END model__max_depth=20, model__max_features=sqrt, model__min_samples_split=10, model__n_estimators=500; total time=   1.0s\n",
      "[CV] END model__max_depth=20, model__max_features=sqrt, model__min_samples_split=10, model__n_estimators=500; total time=   1.0s\n",
      "[CV] END model__max_depth=20, model__max_features=sqrt, model__min_samples_split=10, model__n_estimators=500; total time=   1.0s\n",
      "[CV] END model__max_depth=20, model__max_features=sqrt, model__min_samples_split=10, model__n_estimators=500; total time=   1.0s\n",
      "[CV] END model__max_depth=20, model__max_features=sqrt, model__min_samples_split=10, model__n_estimators=500; total time=   0.8s\n",
      "✅ Best Parameters: {'model__max_depth': 20, 'model__max_features': 'sqrt', 'model__min_samples_split': 10, 'model__n_estimators': 500}\n",
      "✅ Best CV R²: 0.548964552693593\n",
      "\n",
      "Validation Performance:\n",
      "MSE: 42.60398360226967\n",
      "R²: 0.7262833271918707\n",
      "\n",
      "🎉 submission.csv saved with predictions!\n"
     ]
    },
    {
     "name": "stderr",
     "output_type": "stream",
     "text": [
      "/Users/raulguzman/Desktop/AIPM/mercedes/.venv/lib/python3.11/site-packages/sklearn/preprocessing/_encoders.py:246: UserWarning: Found unknown categories in columns [0, 2, 4] during transform. These unknown categories will be encoded as all zeros\n",
      "  warnings.warn(\n"
     ]
    }
   ],
   "source": [
    "import pandas as pd\n",
    "from sklearn.model_selection import GridSearchCV, train_test_split\n",
    "from sklearn.ensemble import RandomForestRegressor\n",
    "from sklearn.preprocessing import OneHotEncoder\n",
    "from sklearn.compose import ColumnTransformer\n",
    "from sklearn.pipeline import Pipeline\n",
    "from sklearn.metrics import mean_squared_error, r2_score\n",
    "\n",
    "# ----------------------------\n",
    "# 1. Load Data\n",
    "# ----------------------------\n",
    "train = pd.read_csv(\"data/train.csv\")\n",
    "test = pd.read_csv(\"data/test.csv\")\n",
    "\n",
    "# Columns to drop\n",
    "drop_cols = ['X4','X11','X93','X107','X233','X235','X268',\n",
    "             'X289','X290','X293','X297','X330','X347']\n",
    "\n",
    "train = train.drop(columns=drop_cols, errors=\"ignore\")\n",
    "test = test.drop(columns=drop_cols, errors=\"ignore\")\n",
    "\n",
    "# Separate features & target\n",
    "y = train[\"y\"]\n",
    "X = train.drop([\"y\", \"ID\"], axis=1)\n",
    "X_test_final = test.drop([\"ID\"], axis=1)\n",
    "\n",
    "# ----------------------------\n",
    "# 2. Preprocessing\n",
    "# ----------------------------\n",
    "categorical_features = [\"X0\", \"X1\", \"X2\", \"X3\", \"X5\", \"X6\", \"X8\"]\n",
    "numeric_features = [col for col in X.columns if col not in categorical_features]\n",
    "\n",
    "preprocessor = ColumnTransformer(\n",
    "    transformers=[\n",
    "        (\"cat\", OneHotEncoder(drop=\"first\", sparse_output=False, handle_unknown=\"ignore\"), categorical_features),\n",
    "        (\"num\", \"passthrough\", numeric_features)\n",
    "    ]\n",
    ")\n",
    "\n",
    "# ----------------------------\n",
    "# 3. Pipeline with Random Forest\n",
    "# ----------------------------\n",
    "rf = RandomForestRegressor(random_state=42, n_jobs=-1)\n",
    "\n",
    "pipeline = Pipeline(steps=[\n",
    "    (\"preprocessor\", preprocessor),\n",
    "    (\"model\", rf)\n",
    "])\n",
    "\n",
    "# ----------------------------\n",
    "# 4. Hyperparameter Grid\n",
    "# ----------------------------\n",
    "param_grid = {\n",
    "    \"model__n_estimators\": [100, 200, 500],\n",
    "    \"model__max_depth\": [None, 10, 20],\n",
    "    \"model__min_samples_split\": [2, 5, 10],\n",
    "    \"model__max_features\": [\"log2\", \"sqrt\"]\n",
    "}\n",
    "\n",
    "# ----------------------------\n",
    "# 5. Grid Search CV\n",
    "# ----------------------------\n",
    "grid_search = GridSearchCV(\n",
    "    estimator=pipeline,\n",
    "    param_grid=param_grid,\n",
    "    cv=5,\n",
    "    error_score='raise',\n",
    "    scoring=\"r2\",\n",
    "    n_jobs=-1,\n",
    "    verbose=2\n",
    ")\n",
    "\n",
    "grid_search.fit(X, y)\n",
    "\n",
    "# ----------------------------\n",
    "# 6. Results\n",
    "# ----------------------------\n",
    "print(\"✅ Best Parameters:\", grid_search.best_params_)\n",
    "print(\"✅ Best CV R²:\", grid_search.best_score_)\n",
    "\n",
    "# ----------------------------\n",
    "# 7. Evaluate on Hold-out Split\n",
    "# ----------------------------\n",
    "X_train, X_val, y_train, y_val = train_test_split(X, y, test_size=0.2, random_state=42)\n",
    "best_model = grid_search.best_estimator_\n",
    "y_val_pred = best_model.predict(X_val)\n",
    "\n",
    "print(\"\\nValidation Performance:\")\n",
    "print(\"MSE:\", mean_squared_error(y_val, y_val_pred))\n",
    "print(\"R²:\", r2_score(y_val, y_val_pred))\n",
    "\n",
    "# ----------------------------\n",
    "# 8. Predictions on Test Set\n",
    "# ----------------------------\n",
    "test_preds = best_model.predict(X_test_final)\n",
    "submission = pd.DataFrame({\"ID\": test[\"ID\"], \"y\": test_preds})\n",
    "\n",
    "submission.to_csv(\"submission.csv\", index=False)\n",
    "print(\"\\n🎉 submission.csv saved with predictions!\")"
   ]
  },
  {
   "cell_type": "markdown",
   "id": "12482234",
   "metadata": {},
   "source": [
    "### again but only w/ selected features"
   ]
  },
  {
   "cell_type": "code",
   "execution_count": 19,
   "id": "c162ec8a",
   "metadata": {},
   "outputs": [
    {
     "name": "stdout",
     "output_type": "stream",
     "text": [
      "Fitting 5 folds for each of 54 candidates, totalling 270 fits\n",
      "[CV] END max_depth=None, max_features=log2, min_samples_split=2, n_estimators=100; total time=   0.1s\n",
      "[CV] END max_depth=None, max_features=log2, min_samples_split=2, n_estimators=100; total time=   0.1s\n",
      "[CV] END max_depth=None, max_features=log2, min_samples_split=2, n_estimators=100; total time=   0.1s\n",
      "[CV] END max_depth=None, max_features=log2, min_samples_split=2, n_estimators=100; total time=   0.1s\n",
      "[CV] END max_depth=None, max_features=log2, min_samples_split=2, n_estimators=100; total time=   0.1s\n",
      "[CV] END max_depth=None, max_features=log2, min_samples_split=2, n_estimators=200; total time=   0.2s\n",
      "[CV] END max_depth=None, max_features=log2, min_samples_split=2, n_estimators=200; total time=   0.2s\n",
      "[CV] END max_depth=None, max_features=log2, min_samples_split=2, n_estimators=200; total time=   0.2s\n",
      "[CV] END max_depth=None, max_features=log2, min_samples_split=2, n_estimators=200; total time=   0.2s\n",
      "[CV] END max_depth=None, max_features=log2, min_samples_split=2, n_estimators=200; total time=   0.2s\n",
      "[CV] END max_depth=None, max_features=log2, min_samples_split=5, n_estimators=100; total time=   0.1s\n",
      "[CV] END max_depth=None, max_features=log2, min_samples_split=5, n_estimators=100; total time=   0.1s\n",
      "[CV] END max_depth=None, max_features=log2, min_samples_split=5, n_estimators=100; total time=   0.1s\n",
      "[CV] END max_depth=None, max_features=log2, min_samples_split=5, n_estimators=100; total time=   0.1s\n",
      "[CV] END max_depth=None, max_features=log2, min_samples_split=5, n_estimators=100; total time=   0.1s\n",
      "[CV] END max_depth=None, max_features=log2, min_samples_split=5, n_estimators=200; total time=   0.2s\n",
      "[CV] END max_depth=None, max_features=log2, min_samples_split=5, n_estimators=200; total time=   0.2s\n",
      "[CV] END max_depth=None, max_features=log2, min_samples_split=5, n_estimators=200; total time=   0.2s\n",
      "[CV] END max_depth=None, max_features=log2, min_samples_split=5, n_estimators=200; total time=   0.2s\n",
      "[CV] END max_depth=None, max_features=log2, min_samples_split=5, n_estimators=200; total time=   0.2s\n",
      "[CV] END max_depth=None, max_features=log2, min_samples_split=2, n_estimators=500; total time=   0.4s\n",
      "[CV] END max_depth=None, max_features=log2, min_samples_split=2, n_estimators=500; total time=   0.4s\n",
      "[CV] END max_depth=None, max_features=log2, min_samples_split=10, n_estimators=100; total time=   0.1s\n",
      "[CV] END max_depth=None, max_features=log2, min_samples_split=2, n_estimators=500; total time=   0.4s\n",
      "[CV] END max_depth=None, max_features=log2, min_samples_split=10, n_estimators=100; total time=   0.1s\n",
      "[CV] END max_depth=None, max_features=log2, min_samples_split=10, n_estimators=100; total time=   0.1s\n",
      "[CV] END max_depth=None, max_features=log2, min_samples_split=2, n_estimators=500; total time=   0.4s\n",
      "[CV] END max_depth=None, max_features=log2, min_samples_split=2, n_estimators=500; total time=   0.5s\n",
      "[CV] END max_depth=None, max_features=log2, min_samples_split=10, n_estimators=200; total time=   0.2s\n",
      "[CV] END max_depth=None, max_features=log2, min_samples_split=10, n_estimators=100; total time=   0.1s\n",
      "[CV] END max_depth=None, max_features=log2, min_samples_split=10, n_estimators=100; total time=   0.1s\n",
      "[CV] END max_depth=None, max_features=sqrt, min_samples_split=2, n_estimators=100; total time=   0.1s\n",
      "[CV] END max_depth=None, max_features=log2, min_samples_split=10, n_estimators=200; total time=   0.2s\n",
      "[CV] END max_depth=None, max_features=sqrt, min_samples_split=2, n_estimators=100; total time=   0.1s\n",
      "[CV] END max_depth=None, max_features=log2, min_samples_split=10, n_estimators=200; total time=   0.2s\n",
      "[CV] END max_depth=None, max_features=log2, min_samples_split=5, n_estimators=500; total time=   0.4s\n",
      "[CV] END max_depth=None, max_features=log2, min_samples_split=5, n_estimators=500; total time=   0.4s\n",
      "[CV] END max_depth=None, max_features=log2, min_samples_split=5, n_estimators=500; total time=   0.5s\n",
      "[CV] END max_depth=None, max_features=log2, min_samples_split=5, n_estimators=500; total time=   0.4s\n",
      "[CV] END max_depth=None, max_features=sqrt, min_samples_split=2, n_estimators=100; total time=   0.1s\n",
      "[CV] END max_depth=None, max_features=sqrt, min_samples_split=2, n_estimators=100; total time=   0.1s\n",
      "[CV] END max_depth=None, max_features=log2, min_samples_split=10, n_estimators=200; total time=   0.2s\n",
      "[CV] END max_depth=None, max_features=sqrt, min_samples_split=2, n_estimators=200; total time=   0.2s\n",
      "[CV] END max_depth=None, max_features=sqrt, min_samples_split=2, n_estimators=200; total time=   0.2s\n",
      "[CV] END max_depth=None, max_features=sqrt, min_samples_split=5, n_estimators=100; total time=   0.1s\n",
      "[CV] END max_depth=None, max_features=log2, min_samples_split=10, n_estimators=200; total time=   0.2s\n",
      "[CV] END max_depth=None, max_features=sqrt, min_samples_split=5, n_estimators=100; total time=   0.1s\n",
      "[CV] END max_depth=None, max_features=sqrt, min_samples_split=5, n_estimators=100; total time=   0.1s\n",
      "[CV] END max_depth=None, max_features=sqrt, min_samples_split=2, n_estimators=200; total time=   0.2s\n",
      "[CV] END max_depth=None, max_features=sqrt, min_samples_split=5, n_estimators=100; total time=   0.1s\n",
      "[CV] END max_depth=None, max_features=log2, min_samples_split=10, n_estimators=500; total time=   0.5s\n",
      "[CV] END max_depth=None, max_features=log2, min_samples_split=10, n_estimators=500; total time=   0.5s\n",
      "[CV] END max_depth=None, max_features=log2, min_samples_split=10, n_estimators=500; total time=   0.5s\n",
      "[CV] END max_depth=None, max_features=sqrt, min_samples_split=2, n_estimators=200; total time=   0.2s\n",
      "[CV] END max_depth=None, max_features=sqrt, min_samples_split=5, n_estimators=200; total time=   0.2s\n",
      "[CV] END max_depth=None, max_features=sqrt, min_samples_split=5, n_estimators=100; total time=   0.1s\n",
      "[CV] END max_depth=None, max_features=sqrt, min_samples_split=2, n_estimators=200; total time=   0.2s\n",
      "[CV] END max_depth=None, max_features=sqrt, min_samples_split=2, n_estimators=100; total time=   0.1s\n",
      "[CV] END max_depth=None, max_features=sqrt, min_samples_split=5, n_estimators=200; total time=   0.2s\n",
      "[CV] END max_depth=None, max_features=sqrt, min_samples_split=5, n_estimators=200; total time=   0.2s\n",
      "[CV] END max_depth=None, max_features=sqrt, min_samples_split=2, n_estimators=500; total time=   0.5s\n",
      "[CV] END max_depth=None, max_features=sqrt, min_samples_split=10, n_estimators=100; total time=   0.1s\n",
      "[CV] END max_depth=None, max_features=sqrt, min_samples_split=2, n_estimators=500; total time=   0.5s\n",
      "[CV] END max_depth=None, max_features=log2, min_samples_split=5, n_estimators=500; total time=   0.4s\n",
      "[CV] END max_depth=None, max_features=sqrt, min_samples_split=10, n_estimators=100; total time=   0.1s\n",
      "[CV] END max_depth=None, max_features=sqrt, min_samples_split=5, n_estimators=200; total time=   0.2s\n",
      "[CV] END max_depth=None, max_features=sqrt, min_samples_split=5, n_estimators=200; total time=   0.2s\n",
      "[CV] END max_depth=None, max_features=sqrt, min_samples_split=10, n_estimators=100; total time=   0.1s\n",
      "[CV] END max_depth=None, max_features=sqrt, min_samples_split=10, n_estimators=200; total time=   0.2s\n",
      "[CV] END max_depth=None, max_features=sqrt, min_samples_split=10, n_estimators=100; total time=   0.1s\n",
      "[CV] END max_depth=None, max_features=sqrt, min_samples_split=5, n_estimators=500; total time=   0.4s\n",
      "[CV] END max_depth=None, max_features=log2, min_samples_split=10, n_estimators=500; total time=   0.4s\n",
      "[CV] END max_depth=None, max_features=sqrt, min_samples_split=10, n_estimators=200; total time=   0.2s\n",
      "[CV] END max_depth=None, max_features=sqrt, min_samples_split=2, n_estimators=500; total time=   0.5s\n",
      "[CV] END max_depth=None, max_features=log2, min_samples_split=10, n_estimators=500; total time=   0.4s\n",
      "[CV] END max_depth=None, max_features=sqrt, min_samples_split=10, n_estimators=200; total time=   0.2s\n",
      "[CV] END max_depth=10, max_features=log2, min_samples_split=2, n_estimators=100; total time=   0.1s\n",
      "[CV] END max_depth=10, max_features=log2, min_samples_split=2, n_estimators=100; total time=   0.1s\n",
      "[CV] END max_depth=None, max_features=sqrt, min_samples_split=5, n_estimators=500; total time=   0.5s\n",
      "[CV] END max_depth=10, max_features=log2, min_samples_split=2, n_estimators=100; total time=   0.1s\n",
      "[CV] END max_depth=None, max_features=sqrt, min_samples_split=5, n_estimators=500; total time=   0.5s\n",
      "[CV] END max_depth=None, max_features=sqrt, min_samples_split=10, n_estimators=200; total time=   0.2s\n",
      "[CV] END max_depth=None, max_features=sqrt, min_samples_split=10, n_estimators=200; total time=   0.2s\n",
      "[CV] END max_depth=10, max_features=log2, min_samples_split=2, n_estimators=100; total time=   0.1s\n",
      "[CV] END max_depth=10, max_features=log2, min_samples_split=2, n_estimators=100; total time=   0.1s\n",
      "[CV] END max_depth=10, max_features=log2, min_samples_split=2, n_estimators=200; total time=   0.2s\n",
      "[CV] END max_depth=None, max_features=sqrt, min_samples_split=2, n_estimators=500; total time=   0.4s\n",
      "[CV] END max_depth=None, max_features=sqrt, min_samples_split=10, n_estimators=100; total time=   0.1s\n",
      "[CV] END max_depth=None, max_features=sqrt, min_samples_split=2, n_estimators=500; total time=   0.5s\n",
      "[CV] END max_depth=10, max_features=log2, min_samples_split=2, n_estimators=200; total time=   0.2s\n",
      "[CV] END max_depth=None, max_features=sqrt, min_samples_split=10, n_estimators=500; total time=   0.4s\n",
      "[CV] END max_depth=None, max_features=sqrt, min_samples_split=10, n_estimators=500; total time=   0.4s\n",
      "[CV] END max_depth=10, max_features=log2, min_samples_split=5, n_estimators=100; total time=   0.1s\n",
      "[CV] END max_depth=10, max_features=log2, min_samples_split=2, n_estimators=200; total time=   0.2s\n",
      "[CV] END max_depth=10, max_features=log2, min_samples_split=5, n_estimators=100; total time=   0.1s\n",
      "[CV] END max_depth=10, max_features=log2, min_samples_split=2, n_estimators=200; total time=   0.2s\n",
      "[CV] END max_depth=None, max_features=sqrt, min_samples_split=5, n_estimators=500; total time=   0.4s\n",
      "[CV] END max_depth=10, max_features=log2, min_samples_split=5, n_estimators=100; total time=   0.1s\n",
      "[CV] END max_depth=10, max_features=log2, min_samples_split=5, n_estimators=200; total time=   0.2s\n",
      "[CV] END max_depth=10, max_features=log2, min_samples_split=5, n_estimators=100; total time=   0.1s\n",
      "[CV] END max_depth=10, max_features=log2, min_samples_split=5, n_estimators=200; total time=   0.2s\n",
      "[CV] END max_depth=10, max_features=log2, min_samples_split=2, n_estimators=200; total time=   0.2s\n",
      "[CV] END max_depth=None, max_features=sqrt, min_samples_split=10, n_estimators=500; total time=   0.5s\n",
      "[CV] END max_depth=None, max_features=sqrt, min_samples_split=5, n_estimators=500; total time=   0.5s\n",
      "[CV] END max_depth=10, max_features=log2, min_samples_split=2, n_estimators=500; total time=   0.4s\n",
      "[CV] END max_depth=10, max_features=log2, min_samples_split=2, n_estimators=500; total time=   0.4s\n",
      "[CV] END max_depth=10, max_features=log2, min_samples_split=5, n_estimators=200; total time=   0.2s\n",
      "[CV] END max_depth=10, max_features=log2, min_samples_split=2, n_estimators=500; total time=   0.4s\n",
      "[CV] END max_depth=10, max_features=log2, min_samples_split=10, n_estimators=100; total time=   0.1s\n",
      "[CV] END max_depth=10, max_features=log2, min_samples_split=10, n_estimators=100; total time=   0.1s\n",
      "[CV] END max_depth=10, max_features=log2, min_samples_split=10, n_estimators=100; total time=   0.1s\n",
      "[CV] END max_depth=10, max_features=log2, min_samples_split=5, n_estimators=200; total time=   0.2s\n",
      "[CV] END max_depth=10, max_features=log2, min_samples_split=5, n_estimators=200; total time=   0.2s\n",
      "[CV] END max_depth=10, max_features=log2, min_samples_split=5, n_estimators=100; total time=   0.1s\n",
      "[CV] END max_depth=10, max_features=log2, min_samples_split=10, n_estimators=100; total time=   0.1s\n",
      "[CV] END max_depth=None, max_features=sqrt, min_samples_split=10, n_estimators=500; total time=   0.5s\n",
      "[CV] END max_depth=10, max_features=log2, min_samples_split=10, n_estimators=200; total time=   0.2s\n",
      "[CV] END max_depth=10, max_features=log2, min_samples_split=10, n_estimators=100; total time=   0.1s\n",
      "[CV] END max_depth=None, max_features=sqrt, min_samples_split=10, n_estimators=500; total time=   0.5s\n",
      "[CV] END max_depth=10, max_features=log2, min_samples_split=10, n_estimators=200; total time=   0.2s\n",
      "[CV] END max_depth=10, max_features=log2, min_samples_split=5, n_estimators=500; total time=   0.4s\n",
      "[CV] END max_depth=10, max_features=log2, min_samples_split=5, n_estimators=500; total time=   0.4s\n",
      "[CV] END max_depth=10, max_features=log2, min_samples_split=10, n_estimators=200; total time=   0.2s\n",
      "[CV] END max_depth=10, max_features=sqrt, min_samples_split=2, n_estimators=100; total time=   0.1s\n",
      "[CV] END max_depth=10, max_features=sqrt, min_samples_split=2, n_estimators=100; total time=   0.1s\n",
      "[CV] END max_depth=10, max_features=log2, min_samples_split=10, n_estimators=200; total time=   0.2s\n",
      "[CV] END max_depth=10, max_features=sqrt, min_samples_split=2, n_estimators=200; total time=   0.2s\n",
      "[CV] END max_depth=10, max_features=log2, min_samples_split=2, n_estimators=500; total time=   0.4s\n",
      "[CV] END max_depth=10, max_features=log2, min_samples_split=2, n_estimators=500; total time=   0.4s\n",
      "[CV] END max_depth=10, max_features=log2, min_samples_split=5, n_estimators=500; total time=   0.4s\n",
      "[CV] END max_depth=10, max_features=sqrt, min_samples_split=2, n_estimators=100; total time=   0.1s[CV] END max_depth=10, max_features=sqrt, min_samples_split=2, n_estimators=100; total time=   0.1s\n",
      "\n",
      "[CV] END max_depth=10, max_features=sqrt, min_samples_split=2, n_estimators=200; total time=   0.2s\n",
      "[CV] END max_depth=10, max_features=log2, min_samples_split=10, n_estimators=200; total time=   0.2s\n",
      "[CV] END max_depth=10, max_features=sqrt, min_samples_split=5, n_estimators=100; total time=   0.1s\n",
      "[CV] END max_depth=10, max_features=sqrt, min_samples_split=5, n_estimators=100; total time=   0.1s\n",
      "[CV] END max_depth=10, max_features=sqrt, min_samples_split=2, n_estimators=200; total time=   0.2s\n",
      "[CV] END max_depth=10, max_features=log2, min_samples_split=10, n_estimators=500; total time=   0.4s\n",
      "[CV] END max_depth=10, max_features=sqrt, min_samples_split=5, n_estimators=100; total time=   0.1s\n",
      "[CV] END max_depth=10, max_features=log2, min_samples_split=10, n_estimators=500; total time=   0.5s\n",
      "[CV] END max_depth=10, max_features=sqrt, min_samples_split=2, n_estimators=200; total time=   0.2s\n",
      "[CV] END max_depth=10, max_features=log2, min_samples_split=10, n_estimators=500; total time=   0.5s\n",
      "[CV] END max_depth=10, max_features=sqrt, min_samples_split=2, n_estimators=200; total time=   0.2s\n",
      "[CV] END max_depth=10, max_features=sqrt, min_samples_split=5, n_estimators=100; total time=   0.1s\n",
      "[CV] END max_depth=10, max_features=sqrt, min_samples_split=5, n_estimators=100; total time=   0.1s\n",
      "[CV] END max_depth=10, max_features=sqrt, min_samples_split=5, n_estimators=200; total time=   0.2s\n",
      "[CV] END max_depth=10, max_features=log2, min_samples_split=5, n_estimators=500; total time=   0.5s\n",
      "[CV] END max_depth=10, max_features=sqrt, min_samples_split=2, n_estimators=100; total time=   0.1s\n",
      "[CV] END max_depth=10, max_features=log2, min_samples_split=5, n_estimators=500; total time=   0.5s\n",
      "[CV] END max_depth=10, max_features=sqrt, min_samples_split=5, n_estimators=200; total time=   0.2s\n",
      "[CV] END max_depth=10, max_features=sqrt, min_samples_split=5, n_estimators=200; total time=   0.2s\n",
      "[CV] END max_depth=10, max_features=sqrt, min_samples_split=2, n_estimators=500; total time=   0.4s\n",
      "[CV] END max_depth=10, max_features=sqrt, min_samples_split=10, n_estimators=100; total time=   0.1s\n",
      "[CV] END max_depth=10, max_features=sqrt, min_samples_split=10, n_estimators=100; total time=   0.1s\n",
      "[CV] END max_depth=10, max_features=sqrt, min_samples_split=2, n_estimators=500; total time=   0.4s\n",
      "[CV] END max_depth=10, max_features=sqrt, min_samples_split=5, n_estimators=200; total time=   0.2s\n",
      "[CV] END max_depth=10, max_features=sqrt, min_samples_split=10, n_estimators=200; total time=   0.2s\n",
      "[CV] END max_depth=10, max_features=sqrt, min_samples_split=10, n_estimators=100; total time=   0.1s\n",
      "[CV] END max_depth=10, max_features=sqrt, min_samples_split=2, n_estimators=500; total time=   0.4s\n",
      "[CV] END max_depth=10, max_features=sqrt, min_samples_split=10, n_estimators=100; total time=   0.1s\n",
      "[CV] END max_depth=10, max_features=sqrt, min_samples_split=10, n_estimators=200; total time=   0.2s\n",
      "[CV] END max_depth=10, max_features=log2, min_samples_split=10, n_estimators=500; total time=   0.4s\n",
      "[CV] END max_depth=10, max_features=sqrt, min_samples_split=5, n_estimators=200; total time=   0.2s\n",
      "[CV] END max_depth=10, max_features=sqrt, min_samples_split=5, n_estimators=500; total time=   0.4s\n",
      "[CV] END max_depth=10, max_features=sqrt, min_samples_split=5, n_estimators=500; total time=   0.4s\n",
      "[CV] END max_depth=10, max_features=log2, min_samples_split=10, n_estimators=500; total time=   0.5s\n",
      "[CV] END max_depth=10, max_features=sqrt, min_samples_split=5, n_estimators=500; total time=   0.4s\n",
      "[CV] END max_depth=20, max_features=log2, min_samples_split=2, n_estimators=100; total time=   0.1s\n",
      "[CV] END max_depth=20, max_features=log2, min_samples_split=2, n_estimators=100; total time=   0.1s\n",
      "[CV] END max_depth=10, max_features=sqrt, min_samples_split=10, n_estimators=200; total time=   0.2s\n",
      "[CV] END max_depth=20, max_features=log2, min_samples_split=2, n_estimators=100; total time=   0.1s\n",
      "[CV] END max_depth=10, max_features=sqrt, min_samples_split=10, n_estimators=200; total time=   0.2s\n",
      "[CV] END max_depth=10, max_features=sqrt, min_samples_split=10, n_estimators=200; total time=   0.2s\n",
      "[CV] END max_depth=10, max_features=sqrt, min_samples_split=10, n_estimators=100; total time=   0.1s\n",
      "[CV] END max_depth=20, max_features=log2, min_samples_split=2, n_estimators=100; total time=   0.1s\n",
      "[CV] END max_depth=20, max_features=log2, min_samples_split=2, n_estimators=100; total time=   0.1s\n",
      "[CV] END max_depth=20, max_features=log2, min_samples_split=2, n_estimators=200; total time=   0.2s\n",
      "[CV] END max_depth=10, max_features=sqrt, min_samples_split=2, n_estimators=500; total time=   0.5s\n",
      "[CV] END max_depth=20, max_features=log2, min_samples_split=5, n_estimators=100; total time=   0.1s\n",
      "[CV] END max_depth=20, max_features=log2, min_samples_split=2, n_estimators=200; total time=   0.2s\n",
      "[CV] END max_depth=10, max_features=sqrt, min_samples_split=2, n_estimators=500; total time=   0.5s\n",
      "[CV] END max_depth=20, max_features=log2, min_samples_split=2, n_estimators=200; total time=   0.2s\n",
      "[CV] END max_depth=10, max_features=sqrt, min_samples_split=10, n_estimators=500; total time=   0.4s\n",
      "[CV] END max_depth=10, max_features=sqrt, min_samples_split=10, n_estimators=500; total time=   0.4s\n",
      "[CV] END max_depth=20, max_features=log2, min_samples_split=5, n_estimators=100; total time=   0.1s\n",
      "[CV] END max_depth=20, max_features=log2, min_samples_split=2, n_estimators=200; total time=   0.2s\n",
      "[CV] END max_depth=10, max_features=sqrt, min_samples_split=5, n_estimators=500; total time=   0.4s\n",
      "[CV] END max_depth=20, max_features=log2, min_samples_split=5, n_estimators=100; total time=   0.2s\n",
      "[CV] END max_depth=10, max_features=sqrt, min_samples_split=5, n_estimators=500; total time=   0.4s\n",
      "[CV] END max_depth=20, max_features=log2, min_samples_split=5, n_estimators=200; total time=   0.2s\n",
      "[CV] END max_depth=20, max_features=log2, min_samples_split=5, n_estimators=200; total time=   0.2s\n",
      "[CV] END max_depth=20, max_features=log2, min_samples_split=2, n_estimators=200; total time=   0.2s\n",
      "[CV] END max_depth=20, max_features=log2, min_samples_split=5, n_estimators=100; total time=   0.1s\n",
      "[CV] END max_depth=10, max_features=sqrt, min_samples_split=10, n_estimators=500; total time=   0.5s\n",
      "[CV] END max_depth=20, max_features=log2, min_samples_split=10, n_estimators=100; total time=   0.1s\n",
      "[CV] END max_depth=20, max_features=log2, min_samples_split=2, n_estimators=500; total time=   0.4s\n",
      "[CV] END max_depth=20, max_features=log2, min_samples_split=2, n_estimators=500; total time=   0.5s\n",
      "[CV] END max_depth=20, max_features=log2, min_samples_split=5, n_estimators=200; total time=   0.2s\n",
      "[CV] END max_depth=20, max_features=log2, min_samples_split=10, n_estimators=100; total time=   0.1s\n",
      "[CV] END max_depth=20, max_features=log2, min_samples_split=2, n_estimators=500; total time=   0.5s\n",
      "[CV] END max_depth=20, max_features=log2, min_samples_split=10, n_estimators=100; total time=   0.1s\n",
      "[CV] END max_depth=20, max_features=log2, min_samples_split=5, n_estimators=200; total time=   0.2s\n",
      "[CV] END max_depth=20, max_features=log2, min_samples_split=10, n_estimators=100; total time=   0.1s\n",
      "[CV] END max_depth=20, max_features=log2, min_samples_split=5, n_estimators=200; total time=   0.2s\n",
      "[CV] END max_depth=20, max_features=log2, min_samples_split=10, n_estimators=100; total time=   0.1s\n",
      "[CV] END max_depth=20, max_features=log2, min_samples_split=5, n_estimators=100; total time=   0.1s\n",
      "[CV] END max_depth=20, max_features=log2, min_samples_split=10, n_estimators=200; total time=   0.2s\n",
      "[CV] END max_depth=20, max_features=log2, min_samples_split=10, n_estimators=200; total time=   0.2s\n",
      "[CV] END max_depth=10, max_features=sqrt, min_samples_split=10, n_estimators=500; total time=   0.5s[CV] END max_depth=10, max_features=sqrt, min_samples_split=10, n_estimators=500; total time=   0.5s\n",
      "\n",
      "[CV] END max_depth=20, max_features=log2, min_samples_split=10, n_estimators=200; total time=   0.2s\n",
      "[CV] END max_depth=20, max_features=sqrt, min_samples_split=2, n_estimators=100; total time=   0.1s\n",
      "[CV] END max_depth=20, max_features=log2, min_samples_split=5, n_estimators=500; total time=   0.4s\n",
      "[CV] END max_depth=20, max_features=log2, min_samples_split=5, n_estimators=500; total time=   0.4s\n",
      "[CV] END max_depth=20, max_features=log2, min_samples_split=10, n_estimators=200; total time=   0.2s\n",
      "[CV] END max_depth=20, max_features=sqrt, min_samples_split=2, n_estimators=100; total time=   0.1s\n",
      "[CV] END max_depth=20, max_features=sqrt, min_samples_split=2, n_estimators=100; total time=   0.2s\n",
      "[CV] END max_depth=20, max_features=sqrt, min_samples_split=2, n_estimators=200; total time=   0.2s\n",
      "[CV] END max_depth=20, max_features=log2, min_samples_split=2, n_estimators=500; total time=   0.4s\n",
      "[CV] END max_depth=20, max_features=log2, min_samples_split=10, n_estimators=200; total time=   0.2s\n",
      "[CV] END max_depth=20, max_features=log2, min_samples_split=2, n_estimators=500; total time=   0.4s\n",
      "[CV] END max_depth=20, max_features=log2, min_samples_split=5, n_estimators=500; total time=   0.4s\n",
      "[CV] END max_depth=20, max_features=sqrt, min_samples_split=2, n_estimators=200; total time=   0.2s\n",
      "[CV] END max_depth=20, max_features=log2, min_samples_split=10, n_estimators=500; total time=   0.4s\n",
      "[CV] END max_depth=20, max_features=sqrt, min_samples_split=2, n_estimators=100; total time=   0.1s\n",
      "[CV] END max_depth=20, max_features=sqrt, min_samples_split=5, n_estimators=100; total time=   0.1s\n",
      "[CV] END max_depth=20, max_features=sqrt, min_samples_split=5, n_estimators=100; total time=   0.1s\n",
      "[CV] END max_depth=20, max_features=sqrt, min_samples_split=5, n_estimators=100; total time=   0.1s\n",
      "[CV] END max_depth=20, max_features=sqrt, min_samples_split=2, n_estimators=200; total time=   0.2s\n",
      "[CV] END max_depth=20, max_features=sqrt, min_samples_split=2, n_estimators=200; total time=   0.2s\n",
      "[CV] END max_depth=20, max_features=log2, min_samples_split=10, n_estimators=500; total time=   0.5s\n",
      "[CV] END max_depth=20, max_features=log2, min_samples_split=10, n_estimators=500; total time=   0.5s\n",
      "[CV] END max_depth=20, max_features=sqrt, min_samples_split=5, n_estimators=100; total time=   0.1s\n",
      "[CV] END max_depth=20, max_features=sqrt, min_samples_split=2, n_estimators=200; total time=   0.2s\n",
      "[CV] END max_depth=20, max_features=sqrt, min_samples_split=5, n_estimators=100; total time=   0.1s\n",
      "[CV] END max_depth=20, max_features=log2, min_samples_split=5, n_estimators=500; total time=   0.4s\n",
      "[CV] END max_depth=20, max_features=sqrt, min_samples_split=5, n_estimators=200; total time=   0.2s\n",
      "[CV] END max_depth=20, max_features=log2, min_samples_split=5, n_estimators=500; total time=   0.4s\n",
      "[CV] END max_depth=20, max_features=sqrt, min_samples_split=2, n_estimators=100; total time=   0.1s\n",
      "[CV] END max_depth=20, max_features=sqrt, min_samples_split=5, n_estimators=200; total time=   0.2s\n",
      "[CV] END max_depth=20, max_features=sqrt, min_samples_split=5, n_estimators=200; total time=   0.2s\n",
      "[CV] END max_depth=20, max_features=sqrt, min_samples_split=10, n_estimators=100; total time=   0.1s\n",
      "[CV] END max_depth=20, max_features=sqrt, min_samples_split=2, n_estimators=500; total time=   0.5s\n",
      "[CV] END max_depth=20, max_features=sqrt, min_samples_split=10, n_estimators=100; total time=   0.1s\n",
      "[CV] END max_depth=20, max_features=sqrt, min_samples_split=2, n_estimators=500; total time=   0.4s\n",
      "[CV] END max_depth=20, max_features=sqrt, min_samples_split=10, n_estimators=100; total time=   0.1s\n",
      "[CV] END max_depth=20, max_features=sqrt, min_samples_split=5, n_estimators=200; total time=   0.2s\n",
      "[CV] END max_depth=20, max_features=sqrt, min_samples_split=10, n_estimators=100; total time=   0.1s\n",
      "[CV] END max_depth=20, max_features=sqrt, min_samples_split=10, n_estimators=100; total time=   0.1s\n",
      "[CV] END max_depth=20, max_features=log2, min_samples_split=10, n_estimators=500; total time=   0.5s\n",
      "[CV] END max_depth=20, max_features=sqrt, min_samples_split=5, n_estimators=200; total time=   0.2s\n",
      "[CV] END max_depth=20, max_features=sqrt, min_samples_split=2, n_estimators=500; total time=   0.5s\n",
      "[CV] END max_depth=20, max_features=sqrt, min_samples_split=10, n_estimators=200; total time=   0.2s\n",
      "[CV] END max_depth=20, max_features=log2, min_samples_split=10, n_estimators=500; total time=   0.5s\n",
      "[CV] END max_depth=20, max_features=sqrt, min_samples_split=10, n_estimators=200; total time=   0.2s\n",
      "[CV] END max_depth=20, max_features=sqrt, min_samples_split=5, n_estimators=500; total time=   0.4s\n",
      "[CV] END max_depth=20, max_features=sqrt, min_samples_split=5, n_estimators=500; total time=   0.5s\n",
      "[CV] END max_depth=20, max_features=sqrt, min_samples_split=5, n_estimators=500; total time=   0.5s\n",
      "[CV] END max_depth=20, max_features=sqrt, min_samples_split=10, n_estimators=200; total time=   0.2s\n",
      "[CV] END max_depth=20, max_features=sqrt, min_samples_split=10, n_estimators=200; total time=   0.2s\n",
      "[CV] END max_depth=20, max_features=sqrt, min_samples_split=5, n_estimators=500; total time=   0.4s\n",
      "[CV] END max_depth=20, max_features=sqrt, min_samples_split=10, n_estimators=200; total time=   0.2s\n",
      "[CV] END max_depth=20, max_features=sqrt, min_samples_split=2, n_estimators=500; total time=   0.4s\n",
      "[CV] END max_depth=20, max_features=sqrt, min_samples_split=2, n_estimators=500; total time=   0.4s\n",
      "[CV] END max_depth=20, max_features=sqrt, min_samples_split=10, n_estimators=500; total time=   0.4s\n",
      "[CV] END max_depth=20, max_features=sqrt, min_samples_split=10, n_estimators=500; total time=   0.3s\n",
      "[CV] END max_depth=20, max_features=sqrt, min_samples_split=10, n_estimators=500; total time=   0.3s\n",
      "[CV] END max_depth=20, max_features=sqrt, min_samples_split=10, n_estimators=500; total time=   0.3s\n",
      "[CV] END max_depth=20, max_features=sqrt, min_samples_split=10, n_estimators=500; total time=   0.3s\n",
      "[CV] END max_depth=20, max_features=sqrt, min_samples_split=5, n_estimators=500; total time=   0.3s\n",
      "✅ Best Parameters: {'max_depth': None, 'max_features': 'log2', 'min_samples_split': 10, 'n_estimators': 200}\n",
      "✅ Best CV R²: 0.5118824865338218\n",
      "\n",
      "Validation Performance:\n",
      "MSE: 67.52491668532372\n",
      "R²: 0.5661744756241927\n",
      "\n",
      "🎉 submission.csv saved with predictions!\n"
     ]
    }
   ],
   "source": [
    "import pandas as pd\n",
    "from sklearn.model_selection import GridSearchCV, train_test_split\n",
    "from sklearn.ensemble import RandomForestRegressor\n",
    "from sklearn.preprocessing import OneHotEncoder\n",
    "from sklearn.metrics import mean_squared_error, r2_score\n",
    "\n",
    "# ----------------------------\n",
    "# 1. Load Data\n",
    "# ----------------------------\n",
    "train = pd.read_csv(\"data/train.csv\")\n",
    "test = pd.read_csv(\"data/test.csv\")\n",
    "\n",
    "# Target\n",
    "y = train[\"y\"]\n",
    "\n",
    "# Selected numeric features\n",
    "selected_features = ['X314', 'X261', 'X127', 'X29', 'X232',\n",
    "                     'X279', 'X263', 'X76', 'X54', 'X136', 'X328']\n",
    "\n",
    "# ----------------------------\n",
    "# 2. One-Hot Encode X0 and keep only X0_az\n",
    "# ----------------------------\n",
    "ohe = OneHotEncoder(drop=None, sparse_output=False, handle_unknown=\"ignore\")\n",
    "\n",
    "# Fit OHE on X0 from training set\n",
    "X0_encoded = ohe.fit_transform(train[[\"X0\"]])\n",
    "X0_encoded_df = pd.DataFrame(X0_encoded, columns=ohe.get_feature_names_out([\"X0\"]))\n",
    "\n",
    "# Keep only X0_az (if it exists in categories)\n",
    "if \"X0_az\" in X0_encoded_df.columns:\n",
    "    train[\"X0_az\"] = X0_encoded_df[\"X0_az\"].values\n",
    "else:\n",
    "    train[\"X0_az\"] = 0  # fallback in case category not present\n",
    "\n",
    "# Do the same for test set\n",
    "X0_encoded_test = ohe.transform(test[[\"X0\"]])\n",
    "X0_encoded_test_df = pd.DataFrame(X0_encoded_test, columns=ohe.get_feature_names_out([\"X0\"]))\n",
    "\n",
    "if \"X0_az\" in X0_encoded_test_df.columns:\n",
    "    test[\"X0_az\"] = X0_encoded_test_df[\"X0_az\"].values\n",
    "else:\n",
    "    test[\"X0_az\"] = 0\n",
    "\n",
    "# ----------------------------\n",
    "# 3. Build Final Feature Sets\n",
    "# ----------------------------\n",
    "X = train[selected_features + [\"X0_az\"]]\n",
    "X_test_final = test[selected_features + [\"X0_az\"]]\n",
    "\n",
    "# ----------------------------\n",
    "# 4. Model & Grid Search\n",
    "# ----------------------------\n",
    "rf = RandomForestRegressor(random_state=42, n_jobs=-1)\n",
    "\n",
    "param_grid = {\n",
    "    \"n_estimators\": [100, 200, 500],\n",
    "    \"max_depth\": [None, 10, 20],\n",
    "    \"min_samples_split\": [2, 5, 10],\n",
    "    \"max_features\": [\"log2\", \"sqrt\"]\n",
    "}\n",
    "\n",
    "grid_search = GridSearchCV(\n",
    "    estimator=rf,\n",
    "    param_grid=param_grid,\n",
    "    cv=5,\n",
    "    error_score='raise',\n",
    "    scoring=\"r2\",\n",
    "    n_jobs=-1,\n",
    "    verbose=2\n",
    ")\n",
    "\n",
    "grid_search.fit(X, y)\n",
    "\n",
    "# ----------------------------\n",
    "# 5. Results\n",
    "# ----------------------------\n",
    "print(\"✅ Best Parameters:\", grid_search.best_params_)\n",
    "print(\"✅ Best CV R²:\", grid_search.best_score_)\n",
    "\n",
    "# ----------------------------\n",
    "# 6. Hold-out Validation\n",
    "# ----------------------------\n",
    "X_train, X_val, y_train, y_val = train_test_split(X, y, test_size=0.2, random_state=42)\n",
    "best_model = grid_search.best_estimator_\n",
    "y_val_pred = best_model.predict(X_val)\n",
    "\n",
    "print(\"\\nValidation Performance:\")\n",
    "print(\"MSE:\", mean_squared_error(y_val, y_val_pred))\n",
    "print(\"R²:\", r2_score(y_val, y_val_pred))\n",
    "\n",
    "# ----------------------------\n",
    "# 7. Predictions on Test Set\n",
    "# ----------------------------\n",
    "test_preds = best_model.predict(X_test_final)\n",
    "submission = pd.DataFrame({\"ID\": test[\"ID\"], \"y\": test_preds})\n",
    "submission.to_csv(\"submission.csv\", index=False)\n",
    "print(\"\\n🎉 submission.csv saved with predictions!\")"
   ]
  },
  {
   "cell_type": "markdown",
   "id": "6b02f9bf",
   "metadata": {},
   "source": [
    "## Regularization"
   ]
  },
  {
   "cell_type": "code",
   "execution_count": 13,
   "id": "1d9116bc",
   "metadata": {},
   "outputs": [
    {
     "name": "stdout",
     "output_type": "stream",
     "text": [
      "Ridge R² (CV mean): 0.5112569953174076\n",
      "Lasso R² (CV mean): 0.5157719038481955\n"
     ]
    }
   ],
   "source": [
    "from sklearn.linear_model import Ridge, Lasso, ElasticNet\n",
    "from sklearn.model_selection import cross_val_score\n",
    "\n",
    "# Example with Ridge\n",
    "ridge = Ridge(alpha=1.0, random_state=42)\n",
    "scores = cross_val_score(ridge, X, y, cv=5, scoring=\"r2\")\n",
    "\n",
    "print(\"Ridge R² (CV mean):\", scores.mean())\n",
    "\n",
    "# Example with Lasso (feature selection)\n",
    "lasso = Lasso(alpha=0.001, random_state=42, max_iter=5000)\n",
    "scores = cross_val_score(lasso, X, y, cv=5, scoring=\"r2\")\n",
    "\n",
    "print(\"Lasso R² (CV mean):\", scores.mean())"
   ]
  },
  {
   "cell_type": "code",
   "execution_count": 15,
   "id": "ed422658",
   "metadata": {},
   "outputs": [
    {
     "name": "stdout",
     "output_type": "stream",
     "text": [
      "\n",
      "📌 Ridge Results\n",
      "Validation MSE: 67.60293789260989\n",
      "Validation R²: 0.565673214862612\n",
      "CV Mean R²: 0.5112569953174076 ± 0.06713847587885641\n",
      "\n",
      "Top 5 Positive Coefficients:\n",
      "   Feature  Coefficient\n",
      "6     X263    16.046353\n",
      "8      X54    10.138275\n",
      "7      X76    10.138275\n",
      "10    X328    -0.656875\n",
      "1     X261    -1.161884\n",
      "\n",
      "Top 5 Negative Coefficients:\n",
      "  Feature  Coefficient\n",
      "9    X136   -10.138275\n",
      "5    X279   -16.046353\n",
      "4    X232   -16.046353\n",
      "3     X29   -16.046353\n",
      "2    X127   -19.095291\n",
      "\n",
      "📌 Lasso Results\n",
      "Validation MSE: 68.47660053751117\n",
      "Validation R²: 0.5600602178585856\n",
      "CV Mean R²: 0.5157719038481955 ± 0.07133695793813442\n",
      "\n",
      "Top 5 Positive Coefficients:\n",
      "   Feature   Coefficient\n",
      "7      X76  4.972862e+01\n",
      "11   X0_az  1.865655e-01\n",
      "8      X54  1.146341e-11\n",
      "6     X263  1.919616e-16\n",
      "10    X328  0.000000e+00\n",
      "\n",
      "Top 5 Negative Coefficients:\n",
      "  Feature   Coefficient\n",
      "4    X232 -7.912769e-12\n",
      "1    X261 -1.122951e+00\n",
      "0    X314 -2.890656e+00\n",
      "2    X127 -1.918901e+01\n",
      "3     X29 -8.559363e+01\n",
      "\n",
      "📌 ElasticNet Results\n",
      "Validation MSE: 67.51270102781321\n",
      "Validation R²: 0.5662529572319492\n",
      "CV Mean R²: 0.511242040382908 ± 0.06694984695635822\n",
      "\n",
      "Top 5 Positive Coefficients:\n",
      "   Feature  Coefficient\n",
      "6     X263    13.126263\n",
      "7      X76     6.689558\n",
      "8      X54     6.682550\n",
      "10    X328    -1.053224\n",
      "1     X261    -1.178363\n",
      "\n",
      "Top 5 Negative Coefficients:\n",
      "  Feature  Coefficient\n",
      "9    X136    -6.668853\n",
      "5    X279   -13.138744\n",
      "4    X232   -13.159323\n",
      "3     X29   -13.165459\n",
      "2    X127   -18.935095\n",
      "\n",
      "✅ Best Model Selected: Lasso\n",
      "\n",
      "🎉 submission_regularized.csv saved with predictions!\n"
     ]
    }
   ],
   "source": [
    "import pandas as pd\n",
    "from sklearn.model_selection import cross_val_score, train_test_split\n",
    "from sklearn.linear_model import Ridge, Lasso, ElasticNet\n",
    "from sklearn.preprocessing import OneHotEncoder\n",
    "from sklearn.metrics import mean_squared_error, r2_score\n",
    "import numpy as np\n",
    "\n",
    "# ----------------------------\n",
    "# 1. Load Data\n",
    "# ----------------------------\n",
    "train = pd.read_csv(\"data/train.csv\")\n",
    "test = pd.read_csv(\"data/test.csv\")\n",
    "\n",
    "y = train[\"y\"]\n",
    "\n",
    "# Selected numeric features\n",
    "selected_features = ['X314', 'X261', 'X127', 'X29', 'X232',\n",
    "                     'X279', 'X263', 'X76', 'X54', 'X136', 'X328']\n",
    "\n",
    "# ----------------------------\n",
    "# 2. One-Hot Encode X0 and keep only X0_az\n",
    "# ----------------------------\n",
    "ohe = OneHotEncoder(drop=None, sparse_output=False, handle_unknown=\"ignore\")\n",
    "\n",
    "X0_encoded = ohe.fit_transform(train[[\"X0\"]])\n",
    "X0_encoded_df = pd.DataFrame(X0_encoded, columns=ohe.get_feature_names_out([\"X0\"]))\n",
    "\n",
    "# Add X0_az (or 0 if missing)\n",
    "train[\"X0_az\"] = X0_encoded_df[\"X0_az\"] if \"X0_az\" in X0_encoded_df.columns else 0\n",
    "\n",
    "# Do the same for test\n",
    "X0_encoded_test = ohe.transform(test[[\"X0\"]])\n",
    "X0_encoded_test_df = pd.DataFrame(X0_encoded_test, columns=ohe.get_feature_names_out([\"X0\"]))\n",
    "test[\"X0_az\"] = X0_encoded_test_df[\"X0_az\"] if \"X0_az\" in X0_encoded_test_df.columns else 0\n",
    "\n",
    "# Final feature sets\n",
    "X = train[selected_features + [\"X0_az\"]]\n",
    "X_test_final = test[selected_features + [\"X0_az\"]]\n",
    "\n",
    "# ----------------------------\n",
    "# 3. Split Train/Validation\n",
    "# ----------------------------\n",
    "X_train, X_val, y_train, y_val = train_test_split(X, y, test_size=0.2, random_state=42)\n",
    "\n",
    "# ----------------------------\n",
    "# 4. Define Models\n",
    "# ----------------------------\n",
    "models = {\n",
    "    \"Ridge\": Ridge(alpha=1.0, random_state=42),\n",
    "    \"Lasso\": Lasso(alpha=0.001, random_state=42, max_iter=5000),\n",
    "    \"ElasticNet\": ElasticNet(alpha=0.001, l1_ratio=0.5, random_state=42, max_iter=5000)\n",
    "}\n",
    "\n",
    "# ----------------------------\n",
    "# 5. Train & Evaluate\n",
    "# ----------------------------\n",
    "results = {}\n",
    "\n",
    "for name, model in models.items():\n",
    "    model.fit(X_train, y_train)\n",
    "    y_val_pred = model.predict(X_val)\n",
    "    \n",
    "    mse = mean_squared_error(y_val, y_val_pred)\n",
    "    r2 = r2_score(y_val, y_val_pred)\n",
    "    \n",
    "    cv_scores = cross_val_score(model, X, y, cv=5, scoring=\"r2\")\n",
    "    \n",
    "    results[name] = {\n",
    "        \"Validation MSE\": mse,\n",
    "        \"Validation R²\": r2,\n",
    "        \"CV Mean R²\": cv_scores.mean(),\n",
    "        \"CV Std\": cv_scores.std()\n",
    "    }\n",
    "    \n",
    "    print(f\"\\n📌 {name} Results\")\n",
    "    print(\"Validation MSE:\", mse)\n",
    "    print(\"Validation R²:\", r2)\n",
    "    print(\"CV Mean R²:\", cv_scores.mean(), \"±\", cv_scores.std())\n",
    "    \n",
    "    # Feature coefficients\n",
    "    coef_df = pd.DataFrame({\n",
    "        \"Feature\": X.columns,\n",
    "        \"Coefficient\": model.coef_\n",
    "    }).sort_values(by=\"Coefficient\", ascending=False)\n",
    "    \n",
    "    print(\"\\nTop 5 Positive Coefficients:\")\n",
    "    print(coef_df.head(5))\n",
    "    print(\"\\nTop 5 Negative Coefficients:\")\n",
    "    print(coef_df.tail(5))\n",
    "\n",
    "# ----------------------------\n",
    "# 6. Pick Best Model & Predict Test\n",
    "# ----------------------------\n",
    "best_model_name = max(results, key=lambda x: results[x][\"CV Mean R²\"])\n",
    "best_model = models[best_model_name]\n",
    "\n",
    "print(f\"\\n✅ Best Model Selected: {best_model_name}\")\n",
    "\n",
    "best_model.fit(X, y)\n",
    "test_preds = best_model.predict(X_test_final)\n",
    "\n",
    "submission = pd.DataFrame({\"ID\": test[\"ID\"], \"y\": test_preds})\n",
    "submission.to_csv(\"submission_regularized.csv\", index=False)\n",
    "print(\"\\n🎉 submission_regularized.csv saved with predictions!\")"
   ]
  }
 ],
 "metadata": {
  "kernelspec": {
   "display_name": ".venv",
   "language": "python",
   "name": "python3"
  },
  "language_info": {
   "codemirror_mode": {
    "name": "ipython",
    "version": 3
   },
   "file_extension": ".py",
   "mimetype": "text/x-python",
   "name": "python",
   "nbconvert_exporter": "python",
   "pygments_lexer": "ipython3",
   "version": "3.11.3"
  }
 },
 "nbformat": 4,
 "nbformat_minor": 5
}
